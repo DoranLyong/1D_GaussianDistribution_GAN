{
 "cells": [
  {
   "cell_type": "code",
   "execution_count": 4,
   "metadata": {},
   "outputs": [
    {
     "name": "stdout",
     "output_type": "stream",
     "text": [
      "LR set to 0.005\n",
      "LR set to 0.005\n"
     ]
    },
    {
     "name": "stderr",
     "output_type": "stream",
     "text": [
      "/home/cvipl/anaconda3/envs/pytorch_env/lib/python3.7/site-packages/torch/nn/functional.py:1558: UserWarning: nn.functional.tanh is deprecated. Use torch.tanh instead.\n",
      "  warnings.warn(\"nn.functional.tanh is deprecated. Use torch.tanh instead.\")\n",
      "/home/cvipl/anaconda3/envs/pytorch_env/lib/python3.7/site-packages/torch/nn/functional.py:1569: UserWarning: nn.functional.sigmoid is deprecated. Use torch.sigmoid instead.\n",
      "  warnings.warn(\"nn.functional.sigmoid is deprecated. Use torch.sigmoid instead.\")\n",
      "/home/cvipl/anaconda3/envs/pytorch_env/lib/python3.7/site-packages/torch/nn/modules/loss.py:516: UserWarning: Using a target size (torch.Size([8])) that is different to the input size (torch.Size([8, 1])) is deprecated. Please ensure they have the same size.\n",
      "  return F.binary_cross_entropy(input, target, weight=self.weight, reduction=self.reduction)\n"
     ]
    },
    {
     "name": "stdout",
     "output_type": "stream",
     "text": [
      "LR set to 0.00475\n",
      "LR set to 0.00475\n",
      "LR set to 0.0045125\n",
      "LR set to 0.0045125\n",
      "LR set to 0.004286875\n",
      "LR set to 0.004286875\n",
      "LR set to 0.00407253125\n",
      "LR set to 0.00407253125\n",
      "LR set to 0.003868904687499999\n",
      "LR set to 0.003868904687499999\n",
      "LR set to 0.003675459453124999\n",
      "LR set to 0.003675459453124999\n"
     ]
    },
    {
     "name": "stderr",
     "output_type": "stream",
     "text": [
      "/home/cvipl/anaconda3/envs/pytorch_env/lib/python3.7/site-packages/torch/nn/functional.py:1558: UserWarning: nn.functional.tanh is deprecated. Use torch.tanh instead.\n",
      "  warnings.warn(\"nn.functional.tanh is deprecated. Use torch.tanh instead.\")\n",
      "/home/cvipl/anaconda3/envs/pytorch_env/lib/python3.7/site-packages/torch/nn/functional.py:1569: UserWarning: nn.functional.sigmoid is deprecated. Use torch.sigmoid instead.\n",
      "  warnings.warn(\"nn.functional.sigmoid is deprecated. Use torch.sigmoid instead.\")\n",
      "/home/cvipl/anaconda3/envs/pytorch_env/lib/python3.7/site-packages/torch/nn/modules/loss.py:516: UserWarning: Using a target size (torch.Size([8])) that is different to the input size (torch.Size([8, 1])) is deprecated. Please ensure they have the same size.\n",
      "  return F.binary_cross_entropy(input, target, weight=self.weight, reduction=self.reduction)\n"
     ]
    },
    {
     "name": "stdout",
     "output_type": "stream",
     "text": [
      "LR set to 0.003491686480468749\n",
      "LR set to 0.003491686480468749\n",
      "LR set to 0.0033171021564453113\n",
      "LR set to 0.0033171021564453113\n",
      "LR set to 0.0031512470486230455\n",
      "LR set to 0.0031512470486230455\n",
      "LR set to 0.0029936846961918936\n",
      "LR set to 0.0029936846961918936\n",
      "LR set to 0.0028440004613822984\n",
      "LR set to 0.0028440004613822984\n",
      "LR set to 0.0027018004383131834\n",
      "LR set to 0.0027018004383131834\n",
      "LR set to 0.002566710416397524\n",
      "LR set to 0.002566710416397524\n"
     ]
    },
    {
     "name": "stderr",
     "output_type": "stream",
     "text": [
      "/home/cvipl/anaconda3/envs/pytorch_env/lib/python3.7/site-packages/torch/nn/functional.py:1558: UserWarning: nn.functional.tanh is deprecated. Use torch.tanh instead.\n",
      "  warnings.warn(\"nn.functional.tanh is deprecated. Use torch.tanh instead.\")\n",
      "/home/cvipl/anaconda3/envs/pytorch_env/lib/python3.7/site-packages/torch/nn/functional.py:1569: UserWarning: nn.functional.sigmoid is deprecated. Use torch.sigmoid instead.\n",
      "  warnings.warn(\"nn.functional.sigmoid is deprecated. Use torch.sigmoid instead.\")\n",
      "/home/cvipl/anaconda3/envs/pytorch_env/lib/python3.7/site-packages/torch/nn/modules/loss.py:516: UserWarning: Using a target size (torch.Size([8])) that is different to the input size (torch.Size([8, 1])) is deprecated. Please ensure they have the same size.\n",
      "  return F.binary_cross_entropy(input, target, weight=self.weight, reduction=self.reduction)\n"
     ]
    },
    {
     "name": "stdout",
     "output_type": "stream",
     "text": [
      "LR set to 0.0024383748955776477\n",
      "LR set to 0.0024383748955776477\n",
      "LR set to 0.002316456150798765\n",
      "LR set to 0.002316456150798765\n",
      "LR set to 0.0022006333432588268\n",
      "LR set to 0.0022006333432588268\n",
      "LR set to 0.0020906016760958855\n",
      "LR set to 0.0020906016760958855\n",
      "LR set to 0.001986071592291091\n",
      "LR set to 0.001986071592291091\n",
      "LR set to 0.0018867680126765363\n",
      "LR set to 0.0018867680126765363\n",
      "LR set to 0.0017924296120427094\n",
      "LR set to 0.0017924296120427094\n"
     ]
    },
    {
     "name": "stderr",
     "output_type": "stream",
     "text": [
      "/home/cvipl/anaconda3/envs/pytorch_env/lib/python3.7/site-packages/torch/nn/functional.py:1558: UserWarning: nn.functional.tanh is deprecated. Use torch.tanh instead.\n",
      "  warnings.warn(\"nn.functional.tanh is deprecated. Use torch.tanh instead.\")\n",
      "/home/cvipl/anaconda3/envs/pytorch_env/lib/python3.7/site-packages/torch/nn/functional.py:1569: UserWarning: nn.functional.sigmoid is deprecated. Use torch.sigmoid instead.\n",
      "  warnings.warn(\"nn.functional.sigmoid is deprecated. Use torch.sigmoid instead.\")\n",
      "/home/cvipl/anaconda3/envs/pytorch_env/lib/python3.7/site-packages/torch/nn/modules/loss.py:516: UserWarning: Using a target size (torch.Size([8])) that is different to the input size (torch.Size([8, 1])) is deprecated. Please ensure they have the same size.\n",
      "  return F.binary_cross_entropy(input, target, weight=self.weight, reduction=self.reduction)\n"
     ]
    },
    {
     "name": "stdout",
     "output_type": "stream",
     "text": [
      "LR set to 0.001702808131440574\n",
      "LR set to 0.001702808131440574\n",
      "LR set to 0.0016176677248685451\n",
      "LR set to 0.0016176677248685451\n",
      "LR set to 0.001536784338625118\n",
      "LR set to 0.001536784338625118\n",
      "LR set to 0.001459945121693862\n",
      "LR set to 0.001459945121693862\n",
      "LR set to 0.001386947865609169\n",
      "LR set to 0.001386947865609169\n",
      "LR set to 0.0013176004723287101\n",
      "LR set to 0.0013176004723287101\n"
     ]
    },
    {
     "name": "stderr",
     "output_type": "stream",
     "text": [
      "/home/cvipl/anaconda3/envs/pytorch_env/lib/python3.7/site-packages/torch/nn/functional.py:1558: UserWarning: nn.functional.tanh is deprecated. Use torch.tanh instead.\n",
      "  warnings.warn(\"nn.functional.tanh is deprecated. Use torch.tanh instead.\")\n",
      "/home/cvipl/anaconda3/envs/pytorch_env/lib/python3.7/site-packages/torch/nn/functional.py:1569: UserWarning: nn.functional.sigmoid is deprecated. Use torch.sigmoid instead.\n",
      "  warnings.warn(\"nn.functional.sigmoid is deprecated. Use torch.sigmoid instead.\")\n",
      "/home/cvipl/anaconda3/envs/pytorch_env/lib/python3.7/site-packages/torch/nn/modules/loss.py:516: UserWarning: Using a target size (torch.Size([8])) that is different to the input size (torch.Size([8, 1])) is deprecated. Please ensure they have the same size.\n",
      "  return F.binary_cross_entropy(input, target, weight=self.weight, reduction=self.reduction)\n"
     ]
    },
    {
     "name": "stdout",
     "output_type": "stream",
     "text": [
      "LR set to 0.0012517204487122746\n",
      "LR set to 0.0012517204487122746\n",
      "LR set to 0.0011891344262766608\n",
      "LR set to 0.0011891344262766608\n",
      "LR set to 0.0011296777049628279\n",
      "LR set to 0.0011296777049628279\n",
      "LR set to 0.0010731938197146864\n",
      "LR set to 0.0010731938197146864\n",
      "LR set to 0.0010195341287289519\n",
      "LR set to 0.0010195341287289519\n",
      "LR set to 0.0009685574222925043\n",
      "LR set to 0.0009685574222925043\n",
      "LR set to 0.0009201295511778792\n",
      "LR set to 0.0009201295511778792\n"
     ]
    },
    {
     "name": "stderr",
     "output_type": "stream",
     "text": [
      "/home/cvipl/anaconda3/envs/pytorch_env/lib/python3.7/site-packages/torch/nn/functional.py:1558: UserWarning: nn.functional.tanh is deprecated. Use torch.tanh instead.\n",
      "  warnings.warn(\"nn.functional.tanh is deprecated. Use torch.tanh instead.\")\n",
      "/home/cvipl/anaconda3/envs/pytorch_env/lib/python3.7/site-packages/torch/nn/functional.py:1569: UserWarning: nn.functional.sigmoid is deprecated. Use torch.sigmoid instead.\n",
      "  warnings.warn(\"nn.functional.sigmoid is deprecated. Use torch.sigmoid instead.\")\n",
      "/home/cvipl/anaconda3/envs/pytorch_env/lib/python3.7/site-packages/torch/nn/modules/loss.py:516: UserWarning: Using a target size (torch.Size([8])) that is different to the input size (torch.Size([8, 1])) is deprecated. Please ensure they have the same size.\n",
      "  return F.binary_cross_entropy(input, target, weight=self.weight, reduction=self.reduction)\n"
     ]
    },
    {
     "name": "stdout",
     "output_type": "stream",
     "text": [
      "LR set to 0.0008741230736189851\n",
      "LR set to 0.0008741230736189851\n",
      "LR set to 0.0008304169199380358\n",
      "LR set to 0.0008304169199380358\n",
      "LR set to 0.000788896073941134\n",
      "LR set to 0.000788896073941134\n",
      "LR set to 0.0007494512702440773\n",
      "LR set to 0.0007494512702440773\n",
      "LR set to 0.0007119787067318734\n",
      "LR set to 0.0007119787067318734\n",
      "LR set to 0.0006763797713952796\n",
      "LR set to 0.0006763797713952796\n",
      "LR set to 0.0006425607828255156\n",
      "LR set to 0.0006425607828255156\n"
     ]
    },
    {
     "name": "stderr",
     "output_type": "stream",
     "text": [
      "/home/cvipl/anaconda3/envs/pytorch_env/lib/python3.7/site-packages/torch/nn/functional.py:1558: UserWarning: nn.functional.tanh is deprecated. Use torch.tanh instead.\n",
      "  warnings.warn(\"nn.functional.tanh is deprecated. Use torch.tanh instead.\")\n",
      "/home/cvipl/anaconda3/envs/pytorch_env/lib/python3.7/site-packages/torch/nn/functional.py:1569: UserWarning: nn.functional.sigmoid is deprecated. Use torch.sigmoid instead.\n",
      "  warnings.warn(\"nn.functional.sigmoid is deprecated. Use torch.sigmoid instead.\")\n",
      "/home/cvipl/anaconda3/envs/pytorch_env/lib/python3.7/site-packages/torch/nn/modules/loss.py:516: UserWarning: Using a target size (torch.Size([8])) that is different to the input size (torch.Size([8, 1])) is deprecated. Please ensure they have the same size.\n",
      "  return F.binary_cross_entropy(input, target, weight=self.weight, reduction=self.reduction)\n"
     ]
    },
    {
     "name": "stdout",
     "output_type": "stream",
     "text": [
      "LR set to 0.0006104327436842398\n",
      "LR set to 0.0006104327436842398\n",
      "LR set to 0.0005799111065000278\n",
      "LR set to 0.0005799111065000278\n",
      "LR set to 0.0005509155511750264\n",
      "LR set to 0.0005509155511750264\n",
      "LR set to 0.0005233697736162751\n",
      "LR set to 0.0005233697736162751\n",
      "LR set to 0.0004972012849354613\n",
      "LR set to 0.0004972012849354613\n",
      "LR set to 0.00047234122068868817\n",
      "LR set to 0.00047234122068868817\n"
     ]
    },
    {
     "name": "stderr",
     "output_type": "stream",
     "text": [
      "/home/cvipl/anaconda3/envs/pytorch_env/lib/python3.7/site-packages/torch/nn/functional.py:1558: UserWarning: nn.functional.tanh is deprecated. Use torch.tanh instead.\n",
      "  warnings.warn(\"nn.functional.tanh is deprecated. Use torch.tanh instead.\")\n",
      "/home/cvipl/anaconda3/envs/pytorch_env/lib/python3.7/site-packages/torch/nn/functional.py:1569: UserWarning: nn.functional.sigmoid is deprecated. Use torch.sigmoid instead.\n",
      "  warnings.warn(\"nn.functional.sigmoid is deprecated. Use torch.sigmoid instead.\")\n",
      "/home/cvipl/anaconda3/envs/pytorch_env/lib/python3.7/site-packages/torch/nn/modules/loss.py:516: UserWarning: Using a target size (torch.Size([8])) that is different to the input size (torch.Size([8, 1])) is deprecated. Please ensure they have the same size.\n",
      "  return F.binary_cross_entropy(input, target, weight=self.weight, reduction=self.reduction)\n"
     ]
    },
    {
     "name": "stdout",
     "output_type": "stream",
     "text": [
      "LR set to 0.0004487241596542538\n",
      "LR set to 0.0004487241596542538\n",
      "LR set to 0.000426287951671541\n",
      "LR set to 0.000426287951671541\n",
      "LR set to 0.000404973554087964\n",
      "LR set to 0.000404973554087964\n",
      "LR set to 0.0003847248763835658\n",
      "LR set to 0.0003847248763835658\n",
      "LR set to 0.00036548863256438745\n",
      "LR set to 0.00036548863256438745\n",
      "LR set to 0.000347214200936168\n",
      "LR set to 0.000347214200936168\n",
      "LR set to 0.00032985349088935967\n",
      "LR set to 0.00032985349088935967\n"
     ]
    },
    {
     "name": "stderr",
     "output_type": "stream",
     "text": [
      "/home/cvipl/anaconda3/envs/pytorch_env/lib/python3.7/site-packages/torch/nn/functional.py:1558: UserWarning: nn.functional.tanh is deprecated. Use torch.tanh instead.\n",
      "  warnings.warn(\"nn.functional.tanh is deprecated. Use torch.tanh instead.\")\n",
      "/home/cvipl/anaconda3/envs/pytorch_env/lib/python3.7/site-packages/torch/nn/functional.py:1569: UserWarning: nn.functional.sigmoid is deprecated. Use torch.sigmoid instead.\n",
      "  warnings.warn(\"nn.functional.sigmoid is deprecated. Use torch.sigmoid instead.\")\n",
      "/home/cvipl/anaconda3/envs/pytorch_env/lib/python3.7/site-packages/torch/nn/modules/loss.py:516: UserWarning: Using a target size (torch.Size([8])) that is different to the input size (torch.Size([8, 1])) is deprecated. Please ensure they have the same size.\n",
      "  return F.binary_cross_entropy(input, target, weight=self.weight, reduction=self.reduction)\n"
     ]
    },
    {
     "name": "stdout",
     "output_type": "stream",
     "text": [
      "LR set to 0.00031336081634489164\n",
      "LR set to 0.00031336081634489164\n",
      "LR set to 0.00029769277552764705\n",
      "LR set to 0.00029769277552764705\n",
      "LR set to 0.00028280813675126467\n",
      "LR set to 0.00028280813675126467\n",
      "LR set to 0.0002686677299137014\n",
      "LR set to 0.0002686677299137014\n",
      "LR set to 0.0002552343434180163\n",
      "LR set to 0.0002552343434180163\n",
      "LR set to 0.00024247262624711553\n",
      "LR set to 0.00024247262624711553\n",
      "LR set to 0.00023034899493475973\n",
      "LR set to 0.00023034899493475973\n"
     ]
    },
    {
     "name": "stderr",
     "output_type": "stream",
     "text": [
      "/home/cvipl/anaconda3/envs/pytorch_env/lib/python3.7/site-packages/torch/nn/functional.py:1558: UserWarning: nn.functional.tanh is deprecated. Use torch.tanh instead.\n",
      "  warnings.warn(\"nn.functional.tanh is deprecated. Use torch.tanh instead.\")\n",
      "/home/cvipl/anaconda3/envs/pytorch_env/lib/python3.7/site-packages/torch/nn/functional.py:1569: UserWarning: nn.functional.sigmoid is deprecated. Use torch.sigmoid instead.\n",
      "  warnings.warn(\"nn.functional.sigmoid is deprecated. Use torch.sigmoid instead.\")\n",
      "/home/cvipl/anaconda3/envs/pytorch_env/lib/python3.7/site-packages/torch/nn/modules/loss.py:516: UserWarning: Using a target size (torch.Size([8])) that is different to the input size (torch.Size([8, 1])) is deprecated. Please ensure they have the same size.\n",
      "  return F.binary_cross_entropy(input, target, weight=self.weight, reduction=self.reduction)\n"
     ]
    },
    {
     "name": "stdout",
     "output_type": "stream",
     "text": [
      "LR set to 0.00021883154518802174\n",
      "LR set to 0.00021883154518802174\n",
      "LR set to 0.00020788996792862066\n",
      "LR set to 0.00020788996792862066\n",
      "LR set to 0.00019749546953218958\n",
      "LR set to 0.00019749546953218958\n",
      "LR set to 0.00018762069605558009\n",
      "LR set to 0.00018762069605558009\n",
      "LR set to 0.0001782396612528011\n",
      "LR set to 0.0001782396612528011\n",
      "LR set to 0.00016932767819016103\n",
      "LR set to 0.00016932767819016103\n"
     ]
    },
    {
     "name": "stderr",
     "output_type": "stream",
     "text": [
      "/home/cvipl/anaconda3/envs/pytorch_env/lib/python3.7/site-packages/torch/nn/functional.py:1558: UserWarning: nn.functional.tanh is deprecated. Use torch.tanh instead.\n",
      "  warnings.warn(\"nn.functional.tanh is deprecated. Use torch.tanh instead.\")\n",
      "/home/cvipl/anaconda3/envs/pytorch_env/lib/python3.7/site-packages/torch/nn/functional.py:1569: UserWarning: nn.functional.sigmoid is deprecated. Use torch.sigmoid instead.\n",
      "  warnings.warn(\"nn.functional.sigmoid is deprecated. Use torch.sigmoid instead.\")\n",
      "/home/cvipl/anaconda3/envs/pytorch_env/lib/python3.7/site-packages/torch/nn/modules/loss.py:516: UserWarning: Using a target size (torch.Size([8])) that is different to the input size (torch.Size([8, 1])) is deprecated. Please ensure they have the same size.\n",
      "  return F.binary_cross_entropy(input, target, weight=self.weight, reduction=self.reduction)\n"
     ]
    },
    {
     "name": "stdout",
     "output_type": "stream",
     "text": [
      "LR set to 0.00016086129428065298\n",
      "LR set to 0.00016086129428065298\n",
      "LR set to 0.0001528182295666203\n",
      "LR set to 0.0001528182295666203\n",
      "LR set to 0.0001451773180882893\n",
      "LR set to 0.0001451773180882893\n",
      "LR set to 0.00013791845218387482\n",
      "LR set to 0.00013791845218387482\n",
      "LR set to 0.0001310225295746811\n",
      "LR set to 0.0001310225295746811\n",
      "LR set to 0.00012447140309594702\n",
      "LR set to 0.00012447140309594702\n",
      "LR set to 0.00011824783294114967\n",
      "LR set to 0.00011824783294114967\n"
     ]
    },
    {
     "name": "stderr",
     "output_type": "stream",
     "text": [
      "/home/cvipl/anaconda3/envs/pytorch_env/lib/python3.7/site-packages/torch/nn/functional.py:1558: UserWarning: nn.functional.tanh is deprecated. Use torch.tanh instead.\n",
      "  warnings.warn(\"nn.functional.tanh is deprecated. Use torch.tanh instead.\")\n",
      "/home/cvipl/anaconda3/envs/pytorch_env/lib/python3.7/site-packages/torch/nn/functional.py:1569: UserWarning: nn.functional.sigmoid is deprecated. Use torch.sigmoid instead.\n",
      "  warnings.warn(\"nn.functional.sigmoid is deprecated. Use torch.sigmoid instead.\")\n",
      "/home/cvipl/anaconda3/envs/pytorch_env/lib/python3.7/site-packages/torch/nn/modules/loss.py:516: UserWarning: Using a target size (torch.Size([8])) that is different to the input size (torch.Size([8, 1])) is deprecated. Please ensure they have the same size.\n",
      "  return F.binary_cross_entropy(input, target, weight=self.weight, reduction=self.reduction)\n"
     ]
    },
    {
     "name": "stdout",
     "output_type": "stream",
     "text": [
      "LR set to 0.00011233544129409217\n",
      "LR set to 0.00011233544129409217\n",
      "LR set to 0.00010671866922938755\n",
      "LR set to 0.00010671866922938755\n",
      "LR set to 0.00010138273576791818\n",
      "LR set to 0.00010138273576791818\n",
      "LR set to 9.631359897952226e-05\n",
      "LR set to 9.631359897952226e-05\n",
      "LR set to 9.149791903054614e-05\n",
      "LR set to 9.149791903054614e-05\n",
      "LR set to 8.692302307901883e-05\n",
      "LR set to 8.692302307901883e-05\n",
      "LR set to 8.25768719250679e-05\n",
      "LR set to 8.25768719250679e-05\n"
     ]
    },
    {
     "name": "stderr",
     "output_type": "stream",
     "text": [
      "/home/cvipl/anaconda3/envs/pytorch_env/lib/python3.7/site-packages/torch/nn/functional.py:1558: UserWarning: nn.functional.tanh is deprecated. Use torch.tanh instead.\n",
      "  warnings.warn(\"nn.functional.tanh is deprecated. Use torch.tanh instead.\")\n",
      "/home/cvipl/anaconda3/envs/pytorch_env/lib/python3.7/site-packages/torch/nn/functional.py:1569: UserWarning: nn.functional.sigmoid is deprecated. Use torch.sigmoid instead.\n",
      "  warnings.warn(\"nn.functional.sigmoid is deprecated. Use torch.sigmoid instead.\")\n",
      "/home/cvipl/anaconda3/envs/pytorch_env/lib/python3.7/site-packages/torch/nn/modules/loss.py:516: UserWarning: Using a target size (torch.Size([8])) that is different to the input size (torch.Size([8, 1])) is deprecated. Please ensure they have the same size.\n",
      "  return F.binary_cross_entropy(input, target, weight=self.weight, reduction=self.reduction)\n"
     ]
    },
    {
     "name": "stdout",
     "output_type": "stream",
     "text": [
      "LR set to 7.844802832881449e-05\n",
      "LR set to 7.844802832881449e-05\n",
      "LR set to 7.452562691237376e-05\n",
      "LR set to 7.452562691237376e-05\n",
      "LR set to 7.079934556675507e-05\n",
      "LR set to 7.079934556675507e-05\n",
      "LR set to 6.725937828841732e-05\n",
      "LR set to 6.725937828841732e-05\n",
      "LR set to 6.389640937399644e-05\n",
      "LR set to 6.389640937399644e-05\n",
      "LR set to 6.0701588905296626e-05\n",
      "LR set to 6.0701588905296626e-05\n"
     ]
    },
    {
     "name": "stderr",
     "output_type": "stream",
     "text": [
      "/home/cvipl/anaconda3/envs/pytorch_env/lib/python3.7/site-packages/torch/nn/functional.py:1558: UserWarning: nn.functional.tanh is deprecated. Use torch.tanh instead.\n",
      "  warnings.warn(\"nn.functional.tanh is deprecated. Use torch.tanh instead.\")\n",
      "/home/cvipl/anaconda3/envs/pytorch_env/lib/python3.7/site-packages/torch/nn/functional.py:1569: UserWarning: nn.functional.sigmoid is deprecated. Use torch.sigmoid instead.\n",
      "  warnings.warn(\"nn.functional.sigmoid is deprecated. Use torch.sigmoid instead.\")\n",
      "/home/cvipl/anaconda3/envs/pytorch_env/lib/python3.7/site-packages/torch/nn/modules/loss.py:516: UserWarning: Using a target size (torch.Size([8])) that is different to the input size (torch.Size([8, 1])) is deprecated. Please ensure they have the same size.\n",
      "  return F.binary_cross_entropy(input, target, weight=self.weight, reduction=self.reduction)\n"
     ]
    },
    {
     "name": "stdout",
     "output_type": "stream",
     "text": [
      "LR set to 5.7666509460031785e-05\n",
      "LR set to 5.7666509460031785e-05\n",
      "LR set to 5.4783183987030195e-05\n",
      "LR set to 5.4783183987030195e-05\n",
      "LR set to 5.204402478767869e-05\n",
      "LR set to 5.204402478767869e-05\n",
      "LR set to 4.944182354829475e-05\n",
      "LR set to 4.944182354829475e-05\n",
      "LR set to 4.696973237088e-05\n",
      "LR set to 4.696973237088e-05\n",
      "LR set to 4.462124575233601e-05\n",
      "LR set to 4.462124575233601e-05\n",
      "LR set to 4.2390183464719205e-05\n",
      "LR set to 4.2390183464719205e-05\n"
     ]
    },
    {
     "name": "stderr",
     "output_type": "stream",
     "text": [
      "/home/cvipl/anaconda3/envs/pytorch_env/lib/python3.7/site-packages/torch/nn/functional.py:1558: UserWarning: nn.functional.tanh is deprecated. Use torch.tanh instead.\n",
      "  warnings.warn(\"nn.functional.tanh is deprecated. Use torch.tanh instead.\")\n",
      "/home/cvipl/anaconda3/envs/pytorch_env/lib/python3.7/site-packages/torch/nn/functional.py:1569: UserWarning: nn.functional.sigmoid is deprecated. Use torch.sigmoid instead.\n",
      "  warnings.warn(\"nn.functional.sigmoid is deprecated. Use torch.sigmoid instead.\")\n",
      "/home/cvipl/anaconda3/envs/pytorch_env/lib/python3.7/site-packages/torch/nn/modules/loss.py:516: UserWarning: Using a target size (torch.Size([8])) that is different to the input size (torch.Size([8, 1])) is deprecated. Please ensure they have the same size.\n",
      "  return F.binary_cross_entropy(input, target, weight=self.weight, reduction=self.reduction)\n"
     ]
    },
    {
     "name": "stdout",
     "output_type": "stream",
     "text": [
      "LR set to 4.0270674291483244e-05\n",
      "LR set to 4.0270674291483244e-05\n",
      "LR set to 3.825714057690908e-05\n",
      "LR set to 3.825714057690908e-05\n",
      "LR set to 3.634428354806362e-05\n",
      "LR set to 3.634428354806362e-05\n",
      "LR set to 3.452706937066044e-05\n",
      "LR set to 3.452706937066044e-05\n",
      "LR set to 3.280071590212741e-05\n",
      "LR set to 3.280071590212741e-05\n",
      "LR set to 3.116068010702104e-05\n",
      "LR set to 3.116068010702104e-05\n",
      "LR set to 2.9602646101669987e-05\n",
      "LR set to 2.9602646101669987e-05\n"
     ]
    },
    {
     "name": "stderr",
     "output_type": "stream",
     "text": [
      "/home/cvipl/anaconda3/envs/pytorch_env/lib/python3.7/site-packages/torch/nn/functional.py:1558: UserWarning: nn.functional.tanh is deprecated. Use torch.tanh instead.\n",
      "  warnings.warn(\"nn.functional.tanh is deprecated. Use torch.tanh instead.\")\n",
      "/home/cvipl/anaconda3/envs/pytorch_env/lib/python3.7/site-packages/torch/nn/functional.py:1569: UserWarning: nn.functional.sigmoid is deprecated. Use torch.sigmoid instead.\n",
      "  warnings.warn(\"nn.functional.sigmoid is deprecated. Use torch.sigmoid instead.\")\n",
      "/home/cvipl/anaconda3/envs/pytorch_env/lib/python3.7/site-packages/torch/nn/modules/loss.py:516: UserWarning: Using a target size (torch.Size([8])) that is different to the input size (torch.Size([8, 1])) is deprecated. Please ensure they have the same size.\n",
      "  return F.binary_cross_entropy(input, target, weight=self.weight, reduction=self.reduction)\n"
     ]
    },
    {
     "name": "stdout",
     "output_type": "stream",
     "text": [
      "LR set to 2.8122513796586487e-05\n",
      "LR set to 2.8122513796586487e-05\n",
      "LR set to 2.6716388106757164e-05\n",
      "LR set to 2.6716388106757164e-05\n",
      "LR set to 2.53805687014193e-05\n",
      "LR set to 2.53805687014193e-05\n",
      "LR set to 2.411154026634834e-05\n",
      "LR set to 2.411154026634834e-05\n",
      "LR set to 2.290596325303092e-05\n",
      "LR set to 2.290596325303092e-05\n",
      "LR set to 2.1760665090379372e-05\n",
      "LR set to 2.1760665090379372e-05\n"
     ]
    },
    {
     "name": "stderr",
     "output_type": "stream",
     "text": [
      "/home/cvipl/anaconda3/envs/pytorch_env/lib/python3.7/site-packages/torch/nn/functional.py:1558: UserWarning: nn.functional.tanh is deprecated. Use torch.tanh instead.\n",
      "  warnings.warn(\"nn.functional.tanh is deprecated. Use torch.tanh instead.\")\n",
      "/home/cvipl/anaconda3/envs/pytorch_env/lib/python3.7/site-packages/torch/nn/functional.py:1569: UserWarning: nn.functional.sigmoid is deprecated. Use torch.sigmoid instead.\n",
      "  warnings.warn(\"nn.functional.sigmoid is deprecated. Use torch.sigmoid instead.\")\n",
      "/home/cvipl/anaconda3/envs/pytorch_env/lib/python3.7/site-packages/torch/nn/modules/loss.py:516: UserWarning: Using a target size (torch.Size([8])) that is different to the input size (torch.Size([8, 1])) is deprecated. Please ensure they have the same size.\n",
      "  return F.binary_cross_entropy(input, target, weight=self.weight, reduction=self.reduction)\n"
     ]
    },
    {
     "name": "stdout",
     "output_type": "stream",
     "text": [
      "LR set to 2.0672631835860404e-05\n",
      "LR set to 2.0672631835860404e-05\n",
      "LR set to 1.9639000244067383e-05\n",
      "LR set to 1.9639000244067383e-05\n",
      "LR set to 1.8657050231864012e-05\n",
      "LR set to 1.8657050231864012e-05\n",
      "LR set to 1.772419772027081e-05\n",
      "LR set to 1.772419772027081e-05\n",
      "LR set to 1.683798783425727e-05\n",
      "LR set to 1.683798783425727e-05\n",
      "LR set to 1.5996088442544406e-05\n",
      "LR set to 1.5996088442544406e-05\n",
      "LR set to 1.5196284020417184e-05\n",
      "LR set to 1.5196284020417184e-05\n"
     ]
    },
    {
     "name": "stderr",
     "output_type": "stream",
     "text": [
      "/home/cvipl/anaconda3/envs/pytorch_env/lib/python3.7/site-packages/torch/nn/functional.py:1558: UserWarning: nn.functional.tanh is deprecated. Use torch.tanh instead.\n",
      "  warnings.warn(\"nn.functional.tanh is deprecated. Use torch.tanh instead.\")\n",
      "/home/cvipl/anaconda3/envs/pytorch_env/lib/python3.7/site-packages/torch/nn/functional.py:1569: UserWarning: nn.functional.sigmoid is deprecated. Use torch.sigmoid instead.\n",
      "  warnings.warn(\"nn.functional.sigmoid is deprecated. Use torch.sigmoid instead.\")\n",
      "/home/cvipl/anaconda3/envs/pytorch_env/lib/python3.7/site-packages/torch/nn/modules/loss.py:516: UserWarning: Using a target size (torch.Size([8])) that is different to the input size (torch.Size([8, 1])) is deprecated. Please ensure they have the same size.\n",
      "  return F.binary_cross_entropy(input, target, weight=self.weight, reduction=self.reduction)\n"
     ]
    },
    {
     "name": "stdout",
     "output_type": "stream",
     "text": [
      "LR set to 1.4436469819396324e-05\n",
      "LR set to 1.4436469819396324e-05\n",
      "LR set to 1.3714646328426507e-05\n",
      "LR set to 1.3714646328426507e-05\n",
      "LR set to 1.3028914012005182e-05\n",
      "LR set to 1.3028914012005182e-05\n",
      "LR set to 1.2377468311404923e-05\n",
      "LR set to 1.2377468311404923e-05\n",
      "LR set to 1.1758594895834676e-05\n",
      "LR set to 1.1758594895834676e-05\n",
      "LR set to 1.117066515104294e-05\n",
      "LR set to 1.117066515104294e-05\n",
      "LR set to 1.0612131893490793e-05\n",
      "LR set to 1.0612131893490793e-05\n"
     ]
    },
    {
     "name": "stderr",
     "output_type": "stream",
     "text": [
      "/home/cvipl/anaconda3/envs/pytorch_env/lib/python3.7/site-packages/torch/nn/functional.py:1558: UserWarning: nn.functional.tanh is deprecated. Use torch.tanh instead.\n",
      "  warnings.warn(\"nn.functional.tanh is deprecated. Use torch.tanh instead.\")\n",
      "/home/cvipl/anaconda3/envs/pytorch_env/lib/python3.7/site-packages/torch/nn/functional.py:1569: UserWarning: nn.functional.sigmoid is deprecated. Use torch.sigmoid instead.\n",
      "  warnings.warn(\"nn.functional.sigmoid is deprecated. Use torch.sigmoid instead.\")\n",
      "/home/cvipl/anaconda3/envs/pytorch_env/lib/python3.7/site-packages/torch/nn/modules/loss.py:516: UserWarning: Using a target size (torch.Size([8])) that is different to the input size (torch.Size([8, 1])) is deprecated. Please ensure they have the same size.\n",
      "  return F.binary_cross_entropy(input, target, weight=self.weight, reduction=self.reduction)\n"
     ]
    },
    {
     "name": "stdout",
     "output_type": "stream",
     "text": [
      "LR set to 1.0081525298816254e-05\n",
      "LR set to 1.0081525298816254e-05\n",
      "LR set to 9.57744903387544e-06\n",
      "LR set to 9.57744903387544e-06\n",
      "LR set to 9.098576582181668e-06\n",
      "LR set to 9.098576582181668e-06\n",
      "LR set to 8.643647753072584e-06\n",
      "LR set to 8.643647753072584e-06\n",
      "LR set to 8.211465365418953e-06\n",
      "LR set to 8.211465365418953e-06\n",
      "LR set to 7.800892097148006e-06\n",
      "LR set to 7.800892097148006e-06\n"
     ]
    },
    {
     "name": "stderr",
     "output_type": "stream",
     "text": [
      "/home/cvipl/anaconda3/envs/pytorch_env/lib/python3.7/site-packages/torch/nn/functional.py:1558: UserWarning: nn.functional.tanh is deprecated. Use torch.tanh instead.\n",
      "  warnings.warn(\"nn.functional.tanh is deprecated. Use torch.tanh instead.\")\n",
      "/home/cvipl/anaconda3/envs/pytorch_env/lib/python3.7/site-packages/torch/nn/functional.py:1569: UserWarning: nn.functional.sigmoid is deprecated. Use torch.sigmoid instead.\n",
      "  warnings.warn(\"nn.functional.sigmoid is deprecated. Use torch.sigmoid instead.\")\n",
      "/home/cvipl/anaconda3/envs/pytorch_env/lib/python3.7/site-packages/torch/nn/modules/loss.py:516: UserWarning: Using a target size (torch.Size([8])) that is different to the input size (torch.Size([8, 1])) is deprecated. Please ensure they have the same size.\n",
      "  return F.binary_cross_entropy(input, target, weight=self.weight, reduction=self.reduction)\n"
     ]
    },
    {
     "name": "stdout",
     "output_type": "stream",
     "text": [
      "LR set to 7.410847492290605e-06\n",
      "LR set to 7.410847492290605e-06\n",
      "LR set to 7.040305117676075e-06\n",
      "LR set to 7.040305117676075e-06\n",
      "LR set to 6.688289861792271e-06\n",
      "LR set to 6.688289861792271e-06\n",
      "LR set to 6.353875368702657e-06\n",
      "LR set to 6.353875368702657e-06\n",
      "LR set to 6.0361816002675236e-06\n",
      "LR set to 6.0361816002675236e-06\n",
      "LR set to 5.734372520254148e-06\n",
      "LR set to 5.734372520254148e-06\n",
      "LR set to 5.44765389424144e-06\n",
      "LR set to 5.44765389424144e-06\n"
     ]
    },
    {
     "name": "stderr",
     "output_type": "stream",
     "text": [
      "/home/cvipl/anaconda3/envs/pytorch_env/lib/python3.7/site-packages/torch/nn/functional.py:1558: UserWarning: nn.functional.tanh is deprecated. Use torch.tanh instead.\n",
      "  warnings.warn(\"nn.functional.tanh is deprecated. Use torch.tanh instead.\")\n",
      "/home/cvipl/anaconda3/envs/pytorch_env/lib/python3.7/site-packages/torch/nn/functional.py:1569: UserWarning: nn.functional.sigmoid is deprecated. Use torch.sigmoid instead.\n",
      "  warnings.warn(\"nn.functional.sigmoid is deprecated. Use torch.sigmoid instead.\")\n",
      "/home/cvipl/anaconda3/envs/pytorch_env/lib/python3.7/site-packages/torch/nn/modules/loss.py:516: UserWarning: Using a target size (torch.Size([8])) that is different to the input size (torch.Size([8, 1])) is deprecated. Please ensure they have the same size.\n",
      "  return F.binary_cross_entropy(input, target, weight=self.weight, reduction=self.reduction)\n"
     ]
    },
    {
     "name": "stdout",
     "output_type": "stream",
     "text": [
      "LR set to 5.175271199529367e-06\n",
      "LR set to 5.175271199529367e-06\n",
      "LR set to 4.9165076395529e-06\n",
      "LR set to 4.9165076395529e-06\n",
      "LR set to 4.6706822575752535e-06\n",
      "LR set to 4.6706822575752535e-06\n",
      "LR set to 4.437148144696491e-06\n",
      "LR set to 4.437148144696491e-06\n",
      "LR set to 4.215290737461666e-06\n",
      "LR set to 4.215290737461666e-06\n",
      "LR set to 4.0045262005885826e-06\n",
      "LR set to 4.0045262005885826e-06\n",
      "LR set to 3.8042998905591535e-06\n",
      "LR set to 3.8042998905591535e-06\n"
     ]
    },
    {
     "name": "stderr",
     "output_type": "stream",
     "text": [
      "/home/cvipl/anaconda3/envs/pytorch_env/lib/python3.7/site-packages/torch/nn/functional.py:1558: UserWarning: nn.functional.tanh is deprecated. Use torch.tanh instead.\n",
      "  warnings.warn(\"nn.functional.tanh is deprecated. Use torch.tanh instead.\")\n",
      "/home/cvipl/anaconda3/envs/pytorch_env/lib/python3.7/site-packages/torch/nn/functional.py:1569: UserWarning: nn.functional.sigmoid is deprecated. Use torch.sigmoid instead.\n",
      "  warnings.warn(\"nn.functional.sigmoid is deprecated. Use torch.sigmoid instead.\")\n",
      "/home/cvipl/anaconda3/envs/pytorch_env/lib/python3.7/site-packages/torch/nn/modules/loss.py:516: UserWarning: Using a target size (torch.Size([8])) that is different to the input size (torch.Size([8, 1])) is deprecated. Please ensure they have the same size.\n",
      "  return F.binary_cross_entropy(input, target, weight=self.weight, reduction=self.reduction)\n"
     ]
    },
    {
     "name": "stdout",
     "output_type": "stream",
     "text": [
      "LR set to 3.614084896031196e-06\n",
      "LR set to 3.614084896031196e-06\n",
      "LR set to 3.4333806512296355e-06\n",
      "LR set to 3.4333806512296355e-06\n",
      "LR set to 3.2617116186681536e-06\n",
      "LR set to 3.2617116186681536e-06\n",
      "LR set to 3.0986260377347458e-06\n",
      "LR set to 3.0986260377347458e-06\n",
      "LR set to 2.9436947358480082e-06\n",
      "LR set to 2.9436947358480082e-06\n",
      "LR set to 2.796509999055608e-06\n",
      "LR set to 2.796509999055608e-06\n"
     ]
    },
    {
     "name": "stderr",
     "output_type": "stream",
     "text": [
      "/home/cvipl/anaconda3/envs/pytorch_env/lib/python3.7/site-packages/torch/nn/functional.py:1558: UserWarning: nn.functional.tanh is deprecated. Use torch.tanh instead.\n",
      "  warnings.warn(\"nn.functional.tanh is deprecated. Use torch.tanh instead.\")\n",
      "/home/cvipl/anaconda3/envs/pytorch_env/lib/python3.7/site-packages/torch/nn/functional.py:1569: UserWarning: nn.functional.sigmoid is deprecated. Use torch.sigmoid instead.\n",
      "  warnings.warn(\"nn.functional.sigmoid is deprecated. Use torch.sigmoid instead.\")\n",
      "/home/cvipl/anaconda3/envs/pytorch_env/lib/python3.7/site-packages/torch/nn/modules/loss.py:516: UserWarning: Using a target size (torch.Size([8])) that is different to the input size (torch.Size([8, 1])) is deprecated. Please ensure they have the same size.\n",
      "  return F.binary_cross_entropy(input, target, weight=self.weight, reduction=self.reduction)\n"
     ]
    },
    {
     "name": "stdout",
     "output_type": "stream",
     "text": [
      "LR set to 2.6566844991028274e-06\n",
      "LR set to 2.6566844991028274e-06\n",
      "LR set to 2.523850274147686e-06\n",
      "LR set to 2.523850274147686e-06\n",
      "LR set to 2.3976577604403013e-06\n",
      "LR set to 2.3976577604403013e-06\n",
      "LR set to 2.2777748724182864e-06\n",
      "LR set to 2.2777748724182864e-06\n",
      "LR set to 2.1638861287973716e-06\n",
      "LR set to 2.1638861287973716e-06\n",
      "LR set to 2.0556918223575032e-06\n",
      "LR set to 2.0556918223575032e-06\n",
      "LR set to 1.9529072312396278e-06\n",
      "LR set to 1.9529072312396278e-06\n"
     ]
    },
    {
     "name": "stderr",
     "output_type": "stream",
     "text": [
      "/home/cvipl/anaconda3/envs/pytorch_env/lib/python3.7/site-packages/torch/nn/functional.py:1558: UserWarning: nn.functional.tanh is deprecated. Use torch.tanh instead.\n",
      "  warnings.warn(\"nn.functional.tanh is deprecated. Use torch.tanh instead.\")\n",
      "/home/cvipl/anaconda3/envs/pytorch_env/lib/python3.7/site-packages/torch/nn/functional.py:1569: UserWarning: nn.functional.sigmoid is deprecated. Use torch.sigmoid instead.\n",
      "  warnings.warn(\"nn.functional.sigmoid is deprecated. Use torch.sigmoid instead.\")\n",
      "/home/cvipl/anaconda3/envs/pytorch_env/lib/python3.7/site-packages/torch/nn/modules/loss.py:516: UserWarning: Using a target size (torch.Size([8])) that is different to the input size (torch.Size([8, 1])) is deprecated. Please ensure they have the same size.\n",
      "  return F.binary_cross_entropy(input, target, weight=self.weight, reduction=self.reduction)\n"
     ]
    },
    {
     "name": "stdout",
     "output_type": "stream",
     "text": [
      "LR set to 1.8552618696776464e-06\n",
      "LR set to 1.8552618696776464e-06\n",
      "LR set to 1.7624987761937642e-06\n",
      "LR set to 1.7624987761937642e-06\n",
      "LR set to 1.6743738373840757e-06\n",
      "LR set to 1.6743738373840757e-06\n",
      "LR set to 1.5906551455148718e-06\n",
      "LR set to 1.5906551455148718e-06\n",
      "LR set to 1.5111223882391281e-06\n",
      "LR set to 1.5111223882391281e-06\n",
      "LR set to 1.4355662688271718e-06\n",
      "LR set to 1.4355662688271718e-06\n",
      "LR set to 1.3637879553858131e-06\n",
      "LR set to 1.3637879553858131e-06\n"
     ]
    },
    {
     "name": "stderr",
     "output_type": "stream",
     "text": [
      "/home/cvipl/anaconda3/envs/pytorch_env/lib/python3.7/site-packages/torch/nn/functional.py:1558: UserWarning: nn.functional.tanh is deprecated. Use torch.tanh instead.\n",
      "  warnings.warn(\"nn.functional.tanh is deprecated. Use torch.tanh instead.\")\n",
      "/home/cvipl/anaconda3/envs/pytorch_env/lib/python3.7/site-packages/torch/nn/functional.py:1569: UserWarning: nn.functional.sigmoid is deprecated. Use torch.sigmoid instead.\n",
      "  warnings.warn(\"nn.functional.sigmoid is deprecated. Use torch.sigmoid instead.\")\n",
      "/home/cvipl/anaconda3/envs/pytorch_env/lib/python3.7/site-packages/torch/nn/modules/loss.py:516: UserWarning: Using a target size (torch.Size([8])) that is different to the input size (torch.Size([8, 1])) is deprecated. Please ensure they have the same size.\n",
      "  return F.binary_cross_entropy(input, target, weight=self.weight, reduction=self.reduction)\n"
     ]
    },
    {
     "name": "stdout",
     "output_type": "stream",
     "text": [
      "LR set to 1.2955985576165223e-06\n",
      "LR set to 1.2955985576165223e-06\n",
      "LR set to 1.2308186297356962e-06\n",
      "LR set to 1.2308186297356962e-06\n",
      "LR set to 1.1692776982489114e-06\n",
      "LR set to 1.1692776982489114e-06\n",
      "LR set to 1.1108138133364657e-06\n",
      "LR set to 1.1108138133364657e-06\n",
      "LR set to 1.0552731226696424e-06\n",
      "LR set to 1.0552731226696424e-06\n",
      "LR set to 1.0025094665361602e-06\n",
      "LR set to 1.0025094665361602e-06\n"
     ]
    },
    {
     "name": "stderr",
     "output_type": "stream",
     "text": [
      "/home/cvipl/anaconda3/envs/pytorch_env/lib/python3.7/site-packages/torch/nn/functional.py:1558: UserWarning: nn.functional.tanh is deprecated. Use torch.tanh instead.\n",
      "  warnings.warn(\"nn.functional.tanh is deprecated. Use torch.tanh instead.\")\n",
      "/home/cvipl/anaconda3/envs/pytorch_env/lib/python3.7/site-packages/torch/nn/functional.py:1569: UserWarning: nn.functional.sigmoid is deprecated. Use torch.sigmoid instead.\n",
      "  warnings.warn(\"nn.functional.sigmoid is deprecated. Use torch.sigmoid instead.\")\n",
      "/home/cvipl/anaconda3/envs/pytorch_env/lib/python3.7/site-packages/torch/nn/modules/loss.py:516: UserWarning: Using a target size (torch.Size([8])) that is different to the input size (torch.Size([8, 1])) is deprecated. Please ensure they have the same size.\n",
      "  return F.binary_cross_entropy(input, target, weight=self.weight, reduction=self.reduction)\n"
     ]
    },
    {
     "name": "stdout",
     "output_type": "stream",
     "text": [
      "LR set to 9.523839932093522e-07\n",
      "LR set to 9.523839932093522e-07\n",
      "LR set to 9.047647935488844e-07\n",
      "LR set to 9.047647935488844e-07\n",
      "LR set to 8.595265538714402e-07\n",
      "LR set to 8.595265538714402e-07\n",
      "LR set to 8.165502261778681e-07\n",
      "LR set to 8.165502261778681e-07\n",
      "LR set to 7.757227148689748e-07\n",
      "LR set to 7.757227148689748e-07\n",
      "LR set to 7.36936579125526e-07\n",
      "LR set to 7.36936579125526e-07\n",
      "LR set to 7.000897501692495e-07\n",
      "LR set to 7.000897501692495e-07\n"
     ]
    },
    {
     "name": "stderr",
     "output_type": "stream",
     "text": [
      "/home/cvipl/anaconda3/envs/pytorch_env/lib/python3.7/site-packages/torch/nn/functional.py:1558: UserWarning: nn.functional.tanh is deprecated. Use torch.tanh instead.\n",
      "  warnings.warn(\"nn.functional.tanh is deprecated. Use torch.tanh instead.\")\n",
      "/home/cvipl/anaconda3/envs/pytorch_env/lib/python3.7/site-packages/torch/nn/functional.py:1569: UserWarning: nn.functional.sigmoid is deprecated. Use torch.sigmoid instead.\n",
      "  warnings.warn(\"nn.functional.sigmoid is deprecated. Use torch.sigmoid instead.\")\n",
      "/home/cvipl/anaconda3/envs/pytorch_env/lib/python3.7/site-packages/torch/nn/modules/loss.py:516: UserWarning: Using a target size (torch.Size([8])) that is different to the input size (torch.Size([8, 1])) is deprecated. Please ensure they have the same size.\n",
      "  return F.binary_cross_entropy(input, target, weight=self.weight, reduction=self.reduction)\n"
     ]
    },
    {
     "name": "stdout",
     "output_type": "stream",
     "text": [
      "LR set to 6.650852626607871e-07\n",
      "LR set to 6.650852626607871e-07\n",
      "LR set to 6.318309995277477e-07\n",
      "LR set to 6.318309995277477e-07\n",
      "LR set to 6.002394495513603e-07\n",
      "LR set to 6.002394495513603e-07\n",
      "LR set to 5.702274770737922e-07\n",
      "LR set to 5.702274770737922e-07\n",
      "LR set to 5.417161032201027e-07\n",
      "LR set to 5.417161032201027e-07\n",
      "LR set to 5.146302980590975e-07\n",
      "LR set to 5.146302980590975e-07\n",
      "LR set to 4.888987831561426e-07\n",
      "LR set to 4.888987831561426e-07\n"
     ]
    },
    {
     "name": "stderr",
     "output_type": "stream",
     "text": [
      "/home/cvipl/anaconda3/envs/pytorch_env/lib/python3.7/site-packages/torch/nn/functional.py:1558: UserWarning: nn.functional.tanh is deprecated. Use torch.tanh instead.\n",
      "  warnings.warn(\"nn.functional.tanh is deprecated. Use torch.tanh instead.\")\n",
      "/home/cvipl/anaconda3/envs/pytorch_env/lib/python3.7/site-packages/torch/nn/functional.py:1569: UserWarning: nn.functional.sigmoid is deprecated. Use torch.sigmoid instead.\n",
      "  warnings.warn(\"nn.functional.sigmoid is deprecated. Use torch.sigmoid instead.\")\n",
      "/home/cvipl/anaconda3/envs/pytorch_env/lib/python3.7/site-packages/torch/nn/modules/loss.py:516: UserWarning: Using a target size (torch.Size([8])) that is different to the input size (torch.Size([8, 1])) is deprecated. Please ensure they have the same size.\n",
      "  return F.binary_cross_entropy(input, target, weight=self.weight, reduction=self.reduction)\n"
     ]
    },
    {
     "name": "stdout",
     "output_type": "stream",
     "text": [
      "LR set to 4.6445384399833545e-07\n",
      "LR set to 4.6445384399833545e-07\n",
      "LR set to 4.4123115179841864e-07\n",
      "LR set to 4.4123115179841864e-07\n",
      "LR set to 4.191695942084977e-07\n",
      "LR set to 4.191695942084977e-07\n",
      "LR set to 3.982111144980728e-07\n",
      "LR set to 3.982111144980728e-07\n",
      "LR set to 3.7830055877316914e-07\n",
      "LR set to 3.7830055877316914e-07\n",
      "LR set to 3.593855308345107e-07\n",
      "LR set to 3.593855308345107e-07\n"
     ]
    },
    {
     "name": "stderr",
     "output_type": "stream",
     "text": [
      "/home/cvipl/anaconda3/envs/pytorch_env/lib/python3.7/site-packages/torch/nn/functional.py:1558: UserWarning: nn.functional.tanh is deprecated. Use torch.tanh instead.\n",
      "  warnings.warn(\"nn.functional.tanh is deprecated. Use torch.tanh instead.\")\n",
      "/home/cvipl/anaconda3/envs/pytorch_env/lib/python3.7/site-packages/torch/nn/functional.py:1569: UserWarning: nn.functional.sigmoid is deprecated. Use torch.sigmoid instead.\n",
      "  warnings.warn(\"nn.functional.sigmoid is deprecated. Use torch.sigmoid instead.\")\n",
      "/home/cvipl/anaconda3/envs/pytorch_env/lib/python3.7/site-packages/torch/nn/modules/loss.py:516: UserWarning: Using a target size (torch.Size([8])) that is different to the input size (torch.Size([8, 1])) is deprecated. Please ensure they have the same size.\n",
      "  return F.binary_cross_entropy(input, target, weight=self.weight, reduction=self.reduction)\n"
     ]
    },
    {
     "name": "stdout",
     "output_type": "stream",
     "text": [
      "LR set to 3.4141625429278505e-07\n",
      "LR set to 3.4141625429278505e-07\n",
      "LR set to 3.2434544157814583e-07\n",
      "LR set to 3.2434544157814583e-07\n",
      "LR set to 3.081281694992385e-07\n",
      "LR set to 3.081281694992385e-07\n",
      "LR set to 2.9272176102427657e-07\n",
      "LR set to 2.9272176102427657e-07\n",
      "LR set to 2.7808567297306276e-07\n",
      "LR set to 2.7808567297306276e-07\n",
      "LR set to 2.6418138932440963e-07\n",
      "LR set to 2.6418138932440963e-07\n",
      "LR set to 2.5097231985818914e-07\n",
      "LR set to 2.5097231985818914e-07\n"
     ]
    },
    {
     "name": "stderr",
     "output_type": "stream",
     "text": [
      "/home/cvipl/anaconda3/envs/pytorch_env/lib/python3.7/site-packages/torch/nn/functional.py:1558: UserWarning: nn.functional.tanh is deprecated. Use torch.tanh instead.\n",
      "  warnings.warn(\"nn.functional.tanh is deprecated. Use torch.tanh instead.\")\n",
      "/home/cvipl/anaconda3/envs/pytorch_env/lib/python3.7/site-packages/torch/nn/functional.py:1569: UserWarning: nn.functional.sigmoid is deprecated. Use torch.sigmoid instead.\n",
      "  warnings.warn(\"nn.functional.sigmoid is deprecated. Use torch.sigmoid instead.\")\n",
      "/home/cvipl/anaconda3/envs/pytorch_env/lib/python3.7/site-packages/torch/nn/modules/loss.py:516: UserWarning: Using a target size (torch.Size([8])) that is different to the input size (torch.Size([8, 1])) is deprecated. Please ensure they have the same size.\n",
      "  return F.binary_cross_entropy(input, target, weight=self.weight, reduction=self.reduction)\n"
     ]
    },
    {
     "name": "stdout",
     "output_type": "stream",
     "text": [
      "LR set to 2.3842370386527965e-07\n",
      "LR set to 2.3842370386527965e-07\n",
      "LR set to 2.2650251867201566e-07\n",
      "LR set to 2.2650251867201566e-07\n",
      "LR set to 2.1517739273841486e-07\n",
      "LR set to 2.1517739273841486e-07\n",
      "LR set to 2.0441852310149412e-07\n",
      "LR set to 2.0441852310149412e-07\n",
      "LR set to 1.941975969464194e-07\n",
      "LR set to 1.941975969464194e-07\n",
      "LR set to 1.8448771709909842e-07\n",
      "LR set to 1.8448771709909842e-07\n",
      "LR set to 1.752633312441435e-07\n",
      "LR set to 1.752633312441435e-07\n"
     ]
    },
    {
     "name": "stderr",
     "output_type": "stream",
     "text": [
      "/home/cvipl/anaconda3/envs/pytorch_env/lib/python3.7/site-packages/torch/nn/functional.py:1558: UserWarning: nn.functional.tanh is deprecated. Use torch.tanh instead.\n",
      "  warnings.warn(\"nn.functional.tanh is deprecated. Use torch.tanh instead.\")\n",
      "/home/cvipl/anaconda3/envs/pytorch_env/lib/python3.7/site-packages/torch/nn/functional.py:1569: UserWarning: nn.functional.sigmoid is deprecated. Use torch.sigmoid instead.\n",
      "  warnings.warn(\"nn.functional.sigmoid is deprecated. Use torch.sigmoid instead.\")\n",
      "/home/cvipl/anaconda3/envs/pytorch_env/lib/python3.7/site-packages/torch/nn/modules/loss.py:516: UserWarning: Using a target size (torch.Size([8])) that is different to the input size (torch.Size([8, 1])) is deprecated. Please ensure they have the same size.\n",
      "  return F.binary_cross_entropy(input, target, weight=self.weight, reduction=self.reduction)\n"
     ]
    },
    {
     "name": "stdout",
     "output_type": "stream",
     "text": [
      "LR set to 1.6650016468193627e-07\n",
      "LR set to 1.6650016468193627e-07\n",
      "LR set to 1.5817515644783946e-07\n",
      "LR set to 1.5817515644783946e-07\n",
      "LR set to 1.502663986254475e-07\n",
      "LR set to 1.502663986254475e-07\n",
      "LR set to 1.4275307869417513e-07\n",
      "LR set to 1.4275307869417513e-07\n",
      "LR set to 1.3561542475946635e-07\n",
      "LR set to 1.3561542475946635e-07\n",
      "LR set to 1.2883465352149303e-07\n",
      "LR set to 1.2883465352149303e-07\n"
     ]
    },
    {
     "name": "stderr",
     "output_type": "stream",
     "text": [
      "/home/cvipl/anaconda3/envs/pytorch_env/lib/python3.7/site-packages/torch/nn/functional.py:1558: UserWarning: nn.functional.tanh is deprecated. Use torch.tanh instead.\n",
      "  warnings.warn(\"nn.functional.tanh is deprecated. Use torch.tanh instead.\")\n",
      "/home/cvipl/anaconda3/envs/pytorch_env/lib/python3.7/site-packages/torch/nn/functional.py:1569: UserWarning: nn.functional.sigmoid is deprecated. Use torch.sigmoid instead.\n",
      "  warnings.warn(\"nn.functional.sigmoid is deprecated. Use torch.sigmoid instead.\")\n",
      "/home/cvipl/anaconda3/envs/pytorch_env/lib/python3.7/site-packages/torch/nn/modules/loss.py:516: UserWarning: Using a target size (torch.Size([8])) that is different to the input size (torch.Size([8, 1])) is deprecated. Please ensure they have the same size.\n",
      "  return F.binary_cross_entropy(input, target, weight=self.weight, reduction=self.reduction)\n"
     ]
    },
    {
     "name": "stdout",
     "output_type": "stream",
     "text": [
      "LR set to 1.2239292084541837e-07\n",
      "LR set to 1.2239292084541837e-07\n",
      "LR set to 1.1627327480314744e-07\n",
      "LR set to 1.1627327480314744e-07\n",
      "LR set to 1.1045961106299007e-07\n",
      "LR set to 1.1045961106299007e-07\n",
      "LR set to 1.0493663050984057e-07\n",
      "LR set to 1.0493663050984057e-07\n",
      "LR set to 9.968979898434854e-08\n",
      "LR set to 9.968979898434854e-08\n",
      "LR set to 9.47053090351311e-08\n",
      "LR set to 9.47053090351311e-08\n",
      "LR set to 8.997004358337454e-08\n",
      "LR set to 8.997004358337454e-08\n"
     ]
    },
    {
     "name": "stderr",
     "output_type": "stream",
     "text": [
      "/home/cvipl/anaconda3/envs/pytorch_env/lib/python3.7/site-packages/torch/nn/functional.py:1558: UserWarning: nn.functional.tanh is deprecated. Use torch.tanh instead.\n",
      "  warnings.warn(\"nn.functional.tanh is deprecated. Use torch.tanh instead.\")\n",
      "/home/cvipl/anaconda3/envs/pytorch_env/lib/python3.7/site-packages/torch/nn/functional.py:1569: UserWarning: nn.functional.sigmoid is deprecated. Use torch.sigmoid instead.\n",
      "  warnings.warn(\"nn.functional.sigmoid is deprecated. Use torch.sigmoid instead.\")\n",
      "/home/cvipl/anaconda3/envs/pytorch_env/lib/python3.7/site-packages/torch/nn/modules/loss.py:516: UserWarning: Using a target size (torch.Size([8])) that is different to the input size (torch.Size([8, 1])) is deprecated. Please ensure they have the same size.\n",
      "  return F.binary_cross_entropy(input, target, weight=self.weight, reduction=self.reduction)\n"
     ]
    },
    {
     "name": "stdout",
     "output_type": "stream",
     "text": [
      "LR set to 8.54715414042058e-08\n",
      "LR set to 8.54715414042058e-08\n",
      "LR set to 8.119796433399552e-08\n",
      "LR set to 8.119796433399552e-08\n",
      "LR set to 7.713806611729573e-08\n",
      "LR set to 7.713806611729573e-08\n",
      "LR set to 7.328116281143095e-08\n",
      "LR set to 7.328116281143095e-08\n",
      "LR set to 6.96171046708594e-08\n",
      "LR set to 6.96171046708594e-08\n",
      "LR set to 6.613624943731642e-08\n",
      "LR set to 6.613624943731642e-08\n",
      "LR set to 6.28294369654506e-08\n",
      "LR set to 6.28294369654506e-08\n"
     ]
    },
    {
     "name": "stderr",
     "output_type": "stream",
     "text": [
      "/home/cvipl/anaconda3/envs/pytorch_env/lib/python3.7/site-packages/torch/nn/functional.py:1558: UserWarning: nn.functional.tanh is deprecated. Use torch.tanh instead.\n",
      "  warnings.warn(\"nn.functional.tanh is deprecated. Use torch.tanh instead.\")\n",
      "/home/cvipl/anaconda3/envs/pytorch_env/lib/python3.7/site-packages/torch/nn/functional.py:1569: UserWarning: nn.functional.sigmoid is deprecated. Use torch.sigmoid instead.\n",
      "  warnings.warn(\"nn.functional.sigmoid is deprecated. Use torch.sigmoid instead.\")\n",
      "/home/cvipl/anaconda3/envs/pytorch_env/lib/python3.7/site-packages/torch/nn/modules/loss.py:516: UserWarning: Using a target size (torch.Size([8])) that is different to the input size (torch.Size([8, 1])) is deprecated. Please ensure they have the same size.\n",
      "  return F.binary_cross_entropy(input, target, weight=self.weight, reduction=self.reduction)\n"
     ]
    },
    {
     "name": "stdout",
     "output_type": "stream",
     "text": [
      "LR set to 5.968796511717807e-08\n",
      "LR set to 5.968796511717807e-08\n",
      "LR set to 5.670356686131916e-08\n",
      "LR set to 5.670356686131916e-08\n",
      "LR set to 5.38683885182532e-08\n",
      "LR set to 5.38683885182532e-08\n",
      "LR set to 5.1174969092340534e-08\n",
      "LR set to 5.1174969092340534e-08\n",
      "LR set to 4.86162206377235e-08\n",
      "LR set to 4.86162206377235e-08\n",
      "LR set to 4.618540960583733e-08\n",
      "LR set to 4.618540960583733e-08\n"
     ]
    },
    {
     "name": "stderr",
     "output_type": "stream",
     "text": [
      "/home/cvipl/anaconda3/envs/pytorch_env/lib/python3.7/site-packages/torch/nn/functional.py:1558: UserWarning: nn.functional.tanh is deprecated. Use torch.tanh instead.\n",
      "  warnings.warn(\"nn.functional.tanh is deprecated. Use torch.tanh instead.\")\n",
      "/home/cvipl/anaconda3/envs/pytorch_env/lib/python3.7/site-packages/torch/nn/functional.py:1569: UserWarning: nn.functional.sigmoid is deprecated. Use torch.sigmoid instead.\n",
      "  warnings.warn(\"nn.functional.sigmoid is deprecated. Use torch.sigmoid instead.\")\n",
      "/home/cvipl/anaconda3/envs/pytorch_env/lib/python3.7/site-packages/torch/nn/modules/loss.py:516: UserWarning: Using a target size (torch.Size([8])) that is different to the input size (torch.Size([8, 1])) is deprecated. Please ensure they have the same size.\n",
      "  return F.binary_cross_entropy(input, target, weight=self.weight, reduction=self.reduction)\n"
     ]
    },
    {
     "name": "stdout",
     "output_type": "stream",
     "text": [
      "LR set to 4.3876139125545466e-08\n",
      "LR set to 4.3876139125545466e-08\n",
      "LR set to 4.168233216926819e-08\n",
      "LR set to 4.168233216926819e-08\n",
      "LR set to 3.959821556080477e-08\n",
      "LR set to 3.959821556080477e-08\n",
      "LR set to 3.761830478276453e-08\n",
      "LR set to 3.761830478276453e-08\n",
      "LR set to 3.573738954362631e-08\n",
      "LR set to 3.573738954362631e-08\n",
      "LR set to 3.395052006644499e-08\n",
      "LR set to 3.395052006644499e-08\n",
      "LR set to 3.225299406312274e-08\n",
      "LR set to 3.225299406312274e-08\n"
     ]
    },
    {
     "name": "stderr",
     "output_type": "stream",
     "text": [
      "/home/cvipl/anaconda3/envs/pytorch_env/lib/python3.7/site-packages/torch/nn/functional.py:1558: UserWarning: nn.functional.tanh is deprecated. Use torch.tanh instead.\n",
      "  warnings.warn(\"nn.functional.tanh is deprecated. Use torch.tanh instead.\")\n",
      "/home/cvipl/anaconda3/envs/pytorch_env/lib/python3.7/site-packages/torch/nn/functional.py:1569: UserWarning: nn.functional.sigmoid is deprecated. Use torch.sigmoid instead.\n",
      "  warnings.warn(\"nn.functional.sigmoid is deprecated. Use torch.sigmoid instead.\")\n",
      "/home/cvipl/anaconda3/envs/pytorch_env/lib/python3.7/site-packages/torch/nn/modules/loss.py:516: UserWarning: Using a target size (torch.Size([8])) that is different to the input size (torch.Size([8, 1])) is deprecated. Please ensure they have the same size.\n",
      "  return F.binary_cross_entropy(input, target, weight=self.weight, reduction=self.reduction)\n"
     ]
    },
    {
     "name": "stdout",
     "output_type": "stream",
     "text": [
      "LR set to 3.06403443599666e-08\n",
      "LR set to 3.06403443599666e-08\n",
      "LR set to 2.9108327141968267e-08\n",
      "LR set to 2.9108327141968267e-08\n",
      "LR set to 2.7652910784869852e-08\n",
      "LR set to 2.7652910784869852e-08\n",
      "LR set to 2.6270265245626358e-08\n",
      "LR set to 2.6270265245626358e-08\n",
      "LR set to 2.495675198334504e-08\n",
      "LR set to 2.495675198334504e-08\n",
      "LR set to 2.370891438417779e-08\n",
      "LR set to 2.370891438417779e-08\n",
      "LR set to 2.25234686649689e-08\n",
      "LR set to 2.25234686649689e-08\n"
     ]
    },
    {
     "name": "stderr",
     "output_type": "stream",
     "text": [
      "/home/cvipl/anaconda3/envs/pytorch_env/lib/python3.7/site-packages/torch/nn/functional.py:1558: UserWarning: nn.functional.tanh is deprecated. Use torch.tanh instead.\n",
      "  warnings.warn(\"nn.functional.tanh is deprecated. Use torch.tanh instead.\")\n",
      "/home/cvipl/anaconda3/envs/pytorch_env/lib/python3.7/site-packages/torch/nn/functional.py:1569: UserWarning: nn.functional.sigmoid is deprecated. Use torch.sigmoid instead.\n",
      "  warnings.warn(\"nn.functional.sigmoid is deprecated. Use torch.sigmoid instead.\")\n",
      "/home/cvipl/anaconda3/envs/pytorch_env/lib/python3.7/site-packages/torch/nn/modules/loss.py:516: UserWarning: Using a target size (torch.Size([8])) that is different to the input size (torch.Size([8, 1])) is deprecated. Please ensure they have the same size.\n",
      "  return F.binary_cross_entropy(input, target, weight=self.weight, reduction=self.reduction)\n"
     ]
    },
    {
     "name": "stdout",
     "output_type": "stream",
     "text": [
      "LR set to 2.1397295231720452e-08\n",
      "LR set to 2.1397295231720452e-08\n",
      "LR set to 2.032743047013443e-08\n",
      "LR set to 2.032743047013443e-08\n",
      "LR set to 1.931105894662771e-08\n",
      "LR set to 1.931105894662771e-08\n",
      "LR set to 1.834550599929632e-08\n",
      "LR set to 1.834550599929632e-08\n",
      "LR set to 1.74282306993315e-08\n",
      "LR set to 1.74282306993315e-08\n",
      "LR set to 1.6556819164364926e-08\n",
      "LR set to 1.6556819164364926e-08\n"
     ]
    },
    {
     "name": "stderr",
     "output_type": "stream",
     "text": [
      "/home/cvipl/anaconda3/envs/pytorch_env/lib/python3.7/site-packages/torch/nn/functional.py:1558: UserWarning: nn.functional.tanh is deprecated. Use torch.tanh instead.\n",
      "  warnings.warn(\"nn.functional.tanh is deprecated. Use torch.tanh instead.\")\n",
      "/home/cvipl/anaconda3/envs/pytorch_env/lib/python3.7/site-packages/torch/nn/functional.py:1569: UserWarning: nn.functional.sigmoid is deprecated. Use torch.sigmoid instead.\n",
      "  warnings.warn(\"nn.functional.sigmoid is deprecated. Use torch.sigmoid instead.\")\n",
      "/home/cvipl/anaconda3/envs/pytorch_env/lib/python3.7/site-packages/torch/nn/modules/loss.py:516: UserWarning: Using a target size (torch.Size([8])) that is different to the input size (torch.Size([8, 1])) is deprecated. Please ensure they have the same size.\n",
      "  return F.binary_cross_entropy(input, target, weight=self.weight, reduction=self.reduction)\n"
     ]
    },
    {
     "name": "stdout",
     "output_type": "stream",
     "text": [
      "LR set to 1.572897820614668e-08\n",
      "LR set to 1.572897820614668e-08\n",
      "LR set to 1.4942529295839345e-08\n",
      "LR set to 1.4942529295839345e-08\n",
      "LR set to 1.4195402831047377e-08\n",
      "LR set to 1.4195402831047377e-08\n",
      "LR set to 1.3485632689495008e-08\n",
      "LR set to 1.3485632689495008e-08\n",
      "LR set to 1.2811351055020257e-08\n",
      "LR set to 1.2811351055020257e-08\n",
      "LR set to 1.2170783502269243e-08\n",
      "LR set to 1.2170783502269243e-08\n",
      "LR set to 1.156224432715578e-08\n",
      "LR set to 1.156224432715578e-08\n"
     ]
    },
    {
     "name": "stderr",
     "output_type": "stream",
     "text": [
      "/home/cvipl/anaconda3/envs/pytorch_env/lib/python3.7/site-packages/torch/nn/functional.py:1558: UserWarning: nn.functional.tanh is deprecated. Use torch.tanh instead.\n",
      "  warnings.warn(\"nn.functional.tanh is deprecated. Use torch.tanh instead.\")\n",
      "/home/cvipl/anaconda3/envs/pytorch_env/lib/python3.7/site-packages/torch/nn/functional.py:1569: UserWarning: nn.functional.sigmoid is deprecated. Use torch.sigmoid instead.\n",
      "  warnings.warn(\"nn.functional.sigmoid is deprecated. Use torch.sigmoid instead.\")\n",
      "/home/cvipl/anaconda3/envs/pytorch_env/lib/python3.7/site-packages/torch/nn/modules/loss.py:516: UserWarning: Using a target size (torch.Size([8])) that is different to the input size (torch.Size([8, 1])) is deprecated. Please ensure they have the same size.\n",
      "  return F.binary_cross_entropy(input, target, weight=self.weight, reduction=self.reduction)\n"
     ]
    },
    {
     "name": "stdout",
     "output_type": "stream",
     "text": [
      "LR set to 1.0984132110797991e-08\n",
      "LR set to 1.0984132110797991e-08\n",
      "LR set to 1.0434925505258093e-08\n",
      "LR set to 1.0434925505258093e-08\n",
      "LR set to 9.913179229995185e-09\n",
      "LR set to 9.913179229995185e-09\n",
      "LR set to 9.417520268495426e-09\n",
      "LR set to 9.417520268495426e-09\n",
      "LR set to 8.946644255070656e-09\n",
      "LR set to 8.946644255070656e-09\n",
      "LR set to 8.499312042317122e-09\n",
      "LR set to 8.499312042317122e-09\n",
      "LR set to 8.074346440201265e-09\n",
      "LR set to 8.074346440201265e-09\n"
     ]
    },
    {
     "name": "stderr",
     "output_type": "stream",
     "text": [
      "/home/cvipl/anaconda3/envs/pytorch_env/lib/python3.7/site-packages/torch/nn/functional.py:1558: UserWarning: nn.functional.tanh is deprecated. Use torch.tanh instead.\n",
      "  warnings.warn(\"nn.functional.tanh is deprecated. Use torch.tanh instead.\")\n",
      "/home/cvipl/anaconda3/envs/pytorch_env/lib/python3.7/site-packages/torch/nn/functional.py:1569: UserWarning: nn.functional.sigmoid is deprecated. Use torch.sigmoid instead.\n",
      "  warnings.warn(\"nn.functional.sigmoid is deprecated. Use torch.sigmoid instead.\")\n",
      "/home/cvipl/anaconda3/envs/pytorch_env/lib/python3.7/site-packages/torch/nn/modules/loss.py:516: UserWarning: Using a target size (torch.Size([8])) that is different to the input size (torch.Size([8, 1])) is deprecated. Please ensure they have the same size.\n",
      "  return F.binary_cross_entropy(input, target, weight=self.weight, reduction=self.reduction)\n"
     ]
    },
    {
     "name": "stdout",
     "output_type": "stream",
     "text": [
      "LR set to 7.670629118191201e-09\n",
      "LR set to 7.670629118191201e-09\n",
      "LR set to 7.287097662281641e-09\n",
      "LR set to 7.287097662281641e-09\n",
      "LR set to 6.922742779167558e-09\n",
      "LR set to 6.922742779167558e-09\n",
      "LR set to 6.57660564020918e-09\n",
      "LR set to 6.57660564020918e-09\n",
      "LR set to 6.247775358198721e-09\n",
      "LR set to 6.247775358198721e-09\n",
      "LR set to 5.935386590288785e-09\n",
      "LR set to 5.935386590288785e-09\n"
     ]
    },
    {
     "name": "stderr",
     "output_type": "stream",
     "text": [
      "/home/cvipl/anaconda3/envs/pytorch_env/lib/python3.7/site-packages/torch/nn/functional.py:1558: UserWarning: nn.functional.tanh is deprecated. Use torch.tanh instead.\n",
      "  warnings.warn(\"nn.functional.tanh is deprecated. Use torch.tanh instead.\")\n",
      "/home/cvipl/anaconda3/envs/pytorch_env/lib/python3.7/site-packages/torch/nn/functional.py:1569: UserWarning: nn.functional.sigmoid is deprecated. Use torch.sigmoid instead.\n",
      "  warnings.warn(\"nn.functional.sigmoid is deprecated. Use torch.sigmoid instead.\")\n",
      "/home/cvipl/anaconda3/envs/pytorch_env/lib/python3.7/site-packages/torch/nn/modules/loss.py:516: UserWarning: Using a target size (torch.Size([8])) that is different to the input size (torch.Size([8, 1])) is deprecated. Please ensure they have the same size.\n",
      "  return F.binary_cross_entropy(input, target, weight=self.weight, reduction=self.reduction)\n"
     ]
    },
    {
     "name": "stdout",
     "output_type": "stream",
     "text": [
      "LR set to 5.638617260774345e-09\n",
      "LR set to 5.638617260774345e-09\n",
      "LR set to 5.3566863977356275e-09\n",
      "LR set to 5.3566863977356275e-09\n",
      "LR set to 5.088852077848846e-09\n",
      "LR set to 5.088852077848846e-09\n",
      "LR set to 4.834409473956403e-09\n",
      "LR set to 4.834409473956403e-09\n",
      "LR set to 4.5926890002585836e-09\n",
      "LR set to 4.5926890002585836e-09\n",
      "LR set to 4.3630545502456536e-09\n",
      "LR set to 4.3630545502456536e-09\n",
      "LR set to 4.144901822733371e-09\n",
      "LR set to 4.144901822733371e-09\n"
     ]
    },
    {
     "name": "stderr",
     "output_type": "stream",
     "text": [
      "/home/cvipl/anaconda3/envs/pytorch_env/lib/python3.7/site-packages/torch/nn/functional.py:1558: UserWarning: nn.functional.tanh is deprecated. Use torch.tanh instead.\n",
      "  warnings.warn(\"nn.functional.tanh is deprecated. Use torch.tanh instead.\")\n",
      "/home/cvipl/anaconda3/envs/pytorch_env/lib/python3.7/site-packages/torch/nn/functional.py:1569: UserWarning: nn.functional.sigmoid is deprecated. Use torch.sigmoid instead.\n",
      "  warnings.warn(\"nn.functional.sigmoid is deprecated. Use torch.sigmoid instead.\")\n",
      "/home/cvipl/anaconda3/envs/pytorch_env/lib/python3.7/site-packages/torch/nn/modules/loss.py:516: UserWarning: Using a target size (torch.Size([8])) that is different to the input size (torch.Size([8, 1])) is deprecated. Please ensure they have the same size.\n",
      "  return F.binary_cross_entropy(input, target, weight=self.weight, reduction=self.reduction)\n"
     ]
    },
    {
     "name": "stdout",
     "output_type": "stream",
     "text": [
      "LR set to 3.937656731596702e-09\n",
      "LR set to 3.937656731596702e-09\n",
      "LR set to 3.740773895016867e-09\n",
      "LR set to 3.740773895016867e-09\n",
      "LR set to 3.5537352002660232e-09\n",
      "LR set to 3.5537352002660232e-09\n",
      "LR set to 3.3760484402527217e-09\n",
      "LR set to 3.3760484402527217e-09\n",
      "LR set to 3.2072460182400857e-09\n",
      "LR set to 3.2072460182400857e-09\n",
      "LR set to 3.0468837173280815e-09\n",
      "LR set to 3.0468837173280815e-09\n",
      "LR set to 2.894539531461677e-09\n",
      "LR set to 2.894539531461677e-09\n"
     ]
    },
    {
     "name": "stderr",
     "output_type": "stream",
     "text": [
      "/home/cvipl/anaconda3/envs/pytorch_env/lib/python3.7/site-packages/torch/nn/functional.py:1558: UserWarning: nn.functional.tanh is deprecated. Use torch.tanh instead.\n",
      "  warnings.warn(\"nn.functional.tanh is deprecated. Use torch.tanh instead.\")\n",
      "/home/cvipl/anaconda3/envs/pytorch_env/lib/python3.7/site-packages/torch/nn/functional.py:1569: UserWarning: nn.functional.sigmoid is deprecated. Use torch.sigmoid instead.\n",
      "  warnings.warn(\"nn.functional.sigmoid is deprecated. Use torch.sigmoid instead.\")\n",
      "/home/cvipl/anaconda3/envs/pytorch_env/lib/python3.7/site-packages/torch/nn/modules/loss.py:516: UserWarning: Using a target size (torch.Size([8])) that is different to the input size (torch.Size([8, 1])) is deprecated. Please ensure they have the same size.\n",
      "  return F.binary_cross_entropy(input, target, weight=self.weight, reduction=self.reduction)\n"
     ]
    },
    {
     "name": "stdout",
     "output_type": "stream",
     "text": [
      "LR set to 2.7498125548885928e-09\n",
      "LR set to 2.7498125548885928e-09\n",
      "LR set to 2.612321927144163e-09\n",
      "LR set to 2.612321927144163e-09\n",
      "LR set to 2.481705830786955e-09\n",
      "LR set to 2.481705830786955e-09\n",
      "LR set to 2.357620539247607e-09\n",
      "LR set to 2.357620539247607e-09\n",
      "LR set to 2.2397395122852267e-09\n",
      "LR set to 2.2397395122852267e-09\n",
      "LR set to 2.1277525366709653e-09\n",
      "LR set to 2.1277525366709653e-09\n"
     ]
    },
    {
     "name": "stderr",
     "output_type": "stream",
     "text": [
      "/home/cvipl/anaconda3/envs/pytorch_env/lib/python3.7/site-packages/torch/nn/functional.py:1558: UserWarning: nn.functional.tanh is deprecated. Use torch.tanh instead.\n",
      "  warnings.warn(\"nn.functional.tanh is deprecated. Use torch.tanh instead.\")\n",
      "/home/cvipl/anaconda3/envs/pytorch_env/lib/python3.7/site-packages/torch/nn/functional.py:1569: UserWarning: nn.functional.sigmoid is deprecated. Use torch.sigmoid instead.\n",
      "  warnings.warn(\"nn.functional.sigmoid is deprecated. Use torch.sigmoid instead.\")\n",
      "/home/cvipl/anaconda3/envs/pytorch_env/lib/python3.7/site-packages/torch/nn/modules/loss.py:516: UserWarning: Using a target size (torch.Size([8])) that is different to the input size (torch.Size([8, 1])) is deprecated. Please ensure they have the same size.\n",
      "  return F.binary_cross_entropy(input, target, weight=self.weight, reduction=self.reduction)\n"
     ]
    },
    {
     "name": "stdout",
     "output_type": "stream",
     "text": [
      "LR set to 2.021364909837417e-09\n",
      "LR set to 2.021364909837417e-09\n",
      "LR set to 1.920296664345546e-09\n",
      "LR set to 1.920296664345546e-09\n",
      "LR set to 1.8242818311282685e-09\n",
      "LR set to 1.8242818311282685e-09\n",
      "LR set to 1.7330677395718552e-09\n",
      "LR set to 1.7330677395718552e-09\n",
      "LR set to 1.6464143525932621e-09\n",
      "LR set to 1.6464143525932621e-09\n",
      "LR set to 1.5640936349635992e-09\n",
      "LR set to 1.5640936349635992e-09\n",
      "LR set to 1.4858889532154192e-09\n",
      "LR set to 1.4858889532154192e-09\n"
     ]
    },
    {
     "name": "stderr",
     "output_type": "stream",
     "text": [
      "/home/cvipl/anaconda3/envs/pytorch_env/lib/python3.7/site-packages/torch/nn/functional.py:1558: UserWarning: nn.functional.tanh is deprecated. Use torch.tanh instead.\n",
      "  warnings.warn(\"nn.functional.tanh is deprecated. Use torch.tanh instead.\")\n",
      "/home/cvipl/anaconda3/envs/pytorch_env/lib/python3.7/site-packages/torch/nn/functional.py:1569: UserWarning: nn.functional.sigmoid is deprecated. Use torch.sigmoid instead.\n",
      "  warnings.warn(\"nn.functional.sigmoid is deprecated. Use torch.sigmoid instead.\")\n",
      "/home/cvipl/anaconda3/envs/pytorch_env/lib/python3.7/site-packages/torch/nn/modules/loss.py:516: UserWarning: Using a target size (torch.Size([8])) that is different to the input size (torch.Size([8, 1])) is deprecated. Please ensure they have the same size.\n",
      "  return F.binary_cross_entropy(input, target, weight=self.weight, reduction=self.reduction)\n"
     ]
    },
    {
     "name": "stdout",
     "output_type": "stream",
     "text": [
      "LR set to 1.411594505554648e-09\n",
      "LR set to 1.411594505554648e-09\n",
      "LR set to 1.3410147802769156e-09\n",
      "LR set to 1.3410147802769156e-09\n",
      "LR set to 1.2739640412630699e-09\n",
      "LR set to 1.2739640412630699e-09\n",
      "LR set to 1.2102658391999162e-09\n",
      "LR set to 1.2102658391999162e-09\n",
      "LR set to 1.1497525472399203e-09\n",
      "LR set to 1.1497525472399203e-09\n",
      "LR set to 1.0922649198779244e-09\n",
      "LR set to 1.0922649198779244e-09\n",
      "LR set to 1.037651673884028e-09\n",
      "LR set to 1.037651673884028e-09\n"
     ]
    },
    {
     "name": "stderr",
     "output_type": "stream",
     "text": [
      "/home/cvipl/anaconda3/envs/pytorch_env/lib/python3.7/site-packages/torch/nn/functional.py:1558: UserWarning: nn.functional.tanh is deprecated. Use torch.tanh instead.\n",
      "  warnings.warn(\"nn.functional.tanh is deprecated. Use torch.tanh instead.\")\n",
      "/home/cvipl/anaconda3/envs/pytorch_env/lib/python3.7/site-packages/torch/nn/functional.py:1569: UserWarning: nn.functional.sigmoid is deprecated. Use torch.sigmoid instead.\n",
      "  warnings.warn(\"nn.functional.sigmoid is deprecated. Use torch.sigmoid instead.\")\n",
      "/home/cvipl/anaconda3/envs/pytorch_env/lib/python3.7/site-packages/torch/nn/modules/loss.py:516: UserWarning: Using a target size (torch.Size([8])) that is different to the input size (torch.Size([8, 1])) is deprecated. Please ensure they have the same size.\n",
      "  return F.binary_cross_entropy(input, target, weight=self.weight, reduction=self.reduction)\n"
     ]
    },
    {
     "name": "stdout",
     "output_type": "stream",
     "text": [
      "LR set to 9.857690901898267e-10\n",
      "LR set to 9.857690901898267e-10\n",
      "LR set to 9.36480635680335e-10\n",
      "LR set to 9.36480635680335e-10\n",
      "LR set to 8.896566038963183e-10\n",
      "LR set to 8.896566038963183e-10\n",
      "LR set to 8.451737737015025e-10\n",
      "LR set to 8.451737737015025e-10\n",
      "LR set to 8.029150850164273e-10\n",
      "LR set to 8.029150850164273e-10\n",
      "LR set to 7.62769330765606e-10\n",
      "LR set to 7.62769330765606e-10\n"
     ]
    },
    {
     "name": "stderr",
     "output_type": "stream",
     "text": [
      "/home/cvipl/anaconda3/envs/pytorch_env/lib/python3.7/site-packages/torch/nn/functional.py:1558: UserWarning: nn.functional.tanh is deprecated. Use torch.tanh instead.\n",
      "  warnings.warn(\"nn.functional.tanh is deprecated. Use torch.tanh instead.\")\n",
      "/home/cvipl/anaconda3/envs/pytorch_env/lib/python3.7/site-packages/torch/nn/functional.py:1569: UserWarning: nn.functional.sigmoid is deprecated. Use torch.sigmoid instead.\n",
      "  warnings.warn(\"nn.functional.sigmoid is deprecated. Use torch.sigmoid instead.\")\n",
      "/home/cvipl/anaconda3/envs/pytorch_env/lib/python3.7/site-packages/torch/nn/modules/loss.py:516: UserWarning: Using a target size (torch.Size([8])) that is different to the input size (torch.Size([8, 1])) is deprecated. Please ensure they have the same size.\n",
      "  return F.binary_cross_entropy(input, target, weight=self.weight, reduction=self.reduction)\n"
     ]
    },
    {
     "name": "stdout",
     "output_type": "stream",
     "text": [
      "LR set to 7.246308642273256e-10\n",
      "LR set to 7.246308642273256e-10\n",
      "LR set to 6.883993210159593e-10\n",
      "LR set to 6.883993210159593e-10\n",
      "LR set to 6.539793549651612e-10\n",
      "LR set to 6.539793549651612e-10\n",
      "LR set to 6.212803872169032e-10\n",
      "LR set to 6.212803872169032e-10\n",
      "LR set to 5.90216367856058e-10\n",
      "LR set to 5.90216367856058e-10\n",
      "LR set to 5.607055494632551e-10\n",
      "LR set to 5.607055494632551e-10\n",
      "LR set to 5.326702719900923e-10\n",
      "LR set to 5.326702719900923e-10\n"
     ]
    },
    {
     "name": "stderr",
     "output_type": "stream",
     "text": [
      "/home/cvipl/anaconda3/envs/pytorch_env/lib/python3.7/site-packages/torch/nn/functional.py:1558: UserWarning: nn.functional.tanh is deprecated. Use torch.tanh instead.\n",
      "  warnings.warn(\"nn.functional.tanh is deprecated. Use torch.tanh instead.\")\n",
      "/home/cvipl/anaconda3/envs/pytorch_env/lib/python3.7/site-packages/torch/nn/functional.py:1569: UserWarning: nn.functional.sigmoid is deprecated. Use torch.sigmoid instead.\n",
      "  warnings.warn(\"nn.functional.sigmoid is deprecated. Use torch.sigmoid instead.\")\n",
      "/home/cvipl/anaconda3/envs/pytorch_env/lib/python3.7/site-packages/torch/nn/modules/loss.py:516: UserWarning: Using a target size (torch.Size([8])) that is different to the input size (torch.Size([8, 1])) is deprecated. Please ensure they have the same size.\n",
      "  return F.binary_cross_entropy(input, target, weight=self.weight, reduction=self.reduction)\n"
     ]
    },
    {
     "name": "stdout",
     "output_type": "stream",
     "text": [
      "LR set to 5.060367583905876e-10\n",
      "LR set to 5.060367583905876e-10\n",
      "LR set to 4.807349204710582e-10\n",
      "LR set to 4.807349204710582e-10\n",
      "LR set to 4.5669817444750526e-10\n",
      "LR set to 4.5669817444750526e-10\n",
      "LR set to 4.3386326572513e-10\n",
      "LR set to 4.3386326572513e-10\n",
      "LR set to 4.121701024388735e-10\n",
      "LR set to 4.121701024388735e-10\n",
      "LR set to 3.915615973169298e-10\n",
      "LR set to 3.915615973169298e-10\n",
      "LR set to 3.7198351745108333e-10\n",
      "LR set to 3.7198351745108333e-10\n"
     ]
    },
    {
     "name": "stderr",
     "output_type": "stream",
     "text": [
      "/home/cvipl/anaconda3/envs/pytorch_env/lib/python3.7/site-packages/torch/nn/functional.py:1558: UserWarning: nn.functional.tanh is deprecated. Use torch.tanh instead.\n",
      "  warnings.warn(\"nn.functional.tanh is deprecated. Use torch.tanh instead.\")\n",
      "/home/cvipl/anaconda3/envs/pytorch_env/lib/python3.7/site-packages/torch/nn/functional.py:1569: UserWarning: nn.functional.sigmoid is deprecated. Use torch.sigmoid instead.\n",
      "  warnings.warn(\"nn.functional.sigmoid is deprecated. Use torch.sigmoid instead.\")\n",
      "/home/cvipl/anaconda3/envs/pytorch_env/lib/python3.7/site-packages/torch/nn/modules/loss.py:516: UserWarning: Using a target size (torch.Size([8])) that is different to the input size (torch.Size([8, 1])) is deprecated. Please ensure they have the same size.\n",
      "  return F.binary_cross_entropy(input, target, weight=self.weight, reduction=self.reduction)\n"
     ]
    },
    {
     "name": "stdout",
     "output_type": "stream",
     "text": [
      "LR set to 3.533843415785291e-10\n",
      "LR set to 3.533843415785291e-10\n",
      "LR set to 3.357151244996026e-10\n",
      "LR set to 3.357151244996026e-10\n",
      "LR set to 3.189293682746225e-10\n",
      "LR set to 3.189293682746225e-10\n",
      "LR set to 3.0298289986089135e-10\n",
      "LR set to 3.0298289986089135e-10\n",
      "LR set to 2.878337548678468e-10\n",
      "LR set to 2.878337548678468e-10\n",
      "LR set to 2.734420671244544e-10\n",
      "LR set to 2.734420671244544e-10\n"
     ]
    },
    {
     "name": "stderr",
     "output_type": "stream",
     "text": [
      "/home/cvipl/anaconda3/envs/pytorch_env/lib/python3.7/site-packages/torch/nn/functional.py:1558: UserWarning: nn.functional.tanh is deprecated. Use torch.tanh instead.\n",
      "  warnings.warn(\"nn.functional.tanh is deprecated. Use torch.tanh instead.\")\n",
      "/home/cvipl/anaconda3/envs/pytorch_env/lib/python3.7/site-packages/torch/nn/functional.py:1569: UserWarning: nn.functional.sigmoid is deprecated. Use torch.sigmoid instead.\n",
      "  warnings.warn(\"nn.functional.sigmoid is deprecated. Use torch.sigmoid instead.\")\n",
      "/home/cvipl/anaconda3/envs/pytorch_env/lib/python3.7/site-packages/torch/nn/modules/loss.py:516: UserWarning: Using a target size (torch.Size([8])) that is different to the input size (torch.Size([8, 1])) is deprecated. Please ensure they have the same size.\n",
      "  return F.binary_cross_entropy(input, target, weight=self.weight, reduction=self.reduction)\n"
     ]
    },
    {
     "name": "stdout",
     "output_type": "stream",
     "text": [
      "LR set to 2.5976996376823167e-10\n",
      "LR set to 2.5976996376823167e-10\n",
      "LR set to 2.4678146557982007e-10\n",
      "LR set to 2.4678146557982007e-10\n",
      "LR set to 2.3444239230082905e-10\n",
      "LR set to 2.3444239230082905e-10\n",
      "LR set to 2.2272027268578762e-10\n",
      "LR set to 2.2272027268578762e-10\n",
      "LR set to 2.1158425905149824e-10\n",
      "LR set to 2.1158425905149824e-10\n",
      "LR set to 2.010050460989233e-10\n",
      "LR set to 2.010050460989233e-10\n",
      "LR set to 1.909547937939771e-10\n",
      "LR set to 1.909547937939771e-10\n"
     ]
    },
    {
     "data": {
      "image/png": "[encoded data removed]",
      "text/plain": [
       "<Figure size 432x288 with 1 Axes>"
      ]
     },
     "metadata": {
      "needs_background": "light"
     },
     "output_type": "display_data"
    }
   ],
   "source": [
    "import numpy as np\n",
    "\n",
    "import torch\n",
    "from torch.autograd import Variable\n",
    "import torch.nn.functional as F\n",
    "\n",
    "import os\n",
    "import matplotlib.pyplot as plt\n",
    "from matplotlib import animation\n",
    "import datetime\n",
    "#%matplotlib\n",
    "\n",
    "\n",
    "# custom weights initialization called on netG and netD\n",
    "def weights_init(m):\n",
    "    classname = m.__class__.__name__\n",
    "    if classname.find('Linear') != -1:\n",
    "        m.weight.data.normal_(0.0, 1.0)\n",
    "        m.bias.data.fill_(0.0)\n",
    "\n",
    "\n",
    "def update_learning_rate(optimizer, epoch, init_lr, decay_rate, lr_decay_epochs):\n",
    "    lr = init_lr * (decay_rate**(epoch // lr_decay_epochs))\n",
    "    \n",
    "    if epoch % lr_decay_epochs == 0:\n",
    "        print('LR set to {}'.format(lr))\n",
    "    \n",
    "    for param_group in optimizer.param_groups:\n",
    "        param_group['lr'] = lr\n",
    "    \n",
    "    return optimizer\n",
    "\n",
    "\n",
    "def samples(\n",
    "    models,\n",
    "    data,\n",
    "    sample_range,\n",
    "    batch_size,\n",
    "    num_points=10000,\n",
    "    num_bins=100\n",
    "):\n",
    "    '''\n",
    "    Return a tuple (db, pd, pg), where db is the current decision\n",
    "    boundary, pd is a histogram of samples from the data distribution,\n",
    "    and pg is a histogram of generated samples.\n",
    "    \n",
    "    Taken from https://github.com/AYLIEN/gan-intro/blob/master/gan.py\n",
    "    '''\n",
    "    xs = np.linspace(-sample_range, sample_range, num_points)\n",
    "    bins = np.linspace(-sample_range, sample_range, num_bins)\n",
    "\n",
    "    # decision boundary\n",
    "    db = np.zeros((num_points, 1))\n",
    "    for i in range(num_points // batch_size):\n",
    "        sample = torch.FloatTensor(np.reshape(xs[batch_size * i : batch_size * (i + 1)], (batch_size, 1)))\n",
    "        sample = Variable(sample).cuda()\n",
    "        db[batch_size * i:batch_size * (i + 1)] = models[0](sample).cpu().data.numpy()\n",
    "\n",
    "    # data distribution\n",
    "    d = data.sample(num_points)\n",
    "    pd, _ = np.histogram(d, bins=bins, density=True)\n",
    "\n",
    "    # generated samples\n",
    "    zs = np.linspace(-sample_range, sample_range, num_points)\n",
    "    g = np.zeros((num_points, 1))\n",
    "    for i in range(num_points // batch_size):\n",
    "        sample = torch.FloatTensor(np.reshape(zs[batch_size * i:batch_size * (i + 1)], (batch_size, 1)))\n",
    "        sample = Variable(sample).cuda()\n",
    "        g[batch_size * i:batch_size * (i + 1)] = models[1](sample).cpu().data.numpy()\n",
    "\n",
    "    pg, _ = np.histogram(g, bins=bins, density=True)\n",
    "\n",
    "    return db, pd, pg\n",
    "\n",
    "\n",
    "def plot_distributions(samps, sample_range, ax, save_img_name):\n",
    "    ax.clear()\n",
    "    db, pd, pg = samps\n",
    "    db_x = np.linspace(-sample_range, sample_range, len(db))\n",
    "    p_x = np.linspace(-sample_range, sample_range, len(pd))\n",
    "    #f, ax = plt.subplots(1)\n",
    "    ax.plot(db_x, db, label='decision boundary')\n",
    "    ax.set_ylim(0, 1)\n",
    "    plt.plot(p_x, pd, label='real data')\n",
    "    plt.plot(p_x, pg, label='generated data')\n",
    "    plt.title('1D Generative Adversarial Network')\n",
    "    plt.xlabel('Data values')\n",
    "    plt.ylabel('Probability density')\n",
    "    plt.legend()\n",
    "    plt.savefig(save_img_name)\n",
    "    #plt.show()\n",
    "    #plt.pause(0.05)\n",
    "\n",
    "\n",
    "class DataDistribution(object):\n",
    "    def __init__(self):\n",
    "        self.mu = 4\n",
    "        self.sigma = 0.5\n",
    "\n",
    "    def sample(self, N):\n",
    "        samples = np.random.normal(self.mu, self.sigma, N)\n",
    "        samples.sort()\n",
    "        return np.reshape(samples, (-1, 1))\n",
    "\n",
    "\n",
    "class GeneratorDistribution(object):\n",
    "    def __init__(self, range):\n",
    "        self.range = range\n",
    "\n",
    "    def sample(self, N):\n",
    "        samples = np.linspace(-self.range, self.range, N) + \\\n",
    "            np.random.random(N) * 0.01\n",
    "        return samples\n",
    "\n",
    "\n",
    "class Generator(torch.nn.Module):\n",
    "    def __init__(self, D_in, H, D_out):\n",
    "        super(Generator, self).__init__()\n",
    "        self.linear1 = torch.nn.Linear(D_in, H)\n",
    "        self.linear2 = torch.nn.Linear(H, D_out)\n",
    "\n",
    "    def forward(self, x):\n",
    "        h_relu = self.linear1(x).clamp(min=0)\n",
    "        y_pred = self.linear2(h_relu)\n",
    "        return y_pred\n",
    "\n",
    "\n",
    "class Discriminator(torch.nn.Module):\n",
    "    def __init__(self, D_in, H, D_out):\n",
    "        super(Discriminator, self).__init__()\n",
    "        self.linear1 = torch.nn.Linear(D_in, H * 2)\n",
    "        self.linear2 = torch.nn.Linear(H * 2, H * 2)\n",
    "        self.linear3 = torch.nn.Linear(H * 2, H * 2)\n",
    "        self.linear4 = torch.nn.Linear(H * 2, D_out)\n",
    "\n",
    "    def forward(self, x):\n",
    "        h0 = F.tanh(self.linear1(x))\n",
    "        h1 = F.tanh(self.linear2(h0))\n",
    "        h2 = F.tanh(self.linear3(h1))\n",
    "        out = F.sigmoid(self.linear4(h2))\n",
    "        return out\n",
    "\n",
    "def save_animation(anim_frames, anim_path, sample_range):\n",
    "    f, ax = plt.subplots(figsize=(6, 4))\n",
    "    f.suptitle('1D Generative Adversarial Network', fontsize=15)\n",
    "    plt.xlabel('Data values')\n",
    "    plt.ylabel('Probability density')\n",
    "    ax.set_xlim(-6, 6)\n",
    "    ax.set_ylim(0, 1.4)\n",
    "    line_db, = ax.plot([], [], label='decision boundary')\n",
    "    line_pd, = ax.plot([], [], label='real data')\n",
    "    line_pg, = ax.plot([], [], label='generated data')\n",
    "    frame_number = ax.text(\n",
    "        0.02,\n",
    "        0.95,\n",
    "        '',\n",
    "        horizontalalignment='left',\n",
    "        verticalalignment='top',\n",
    "        transform=ax.transAxes\n",
    "    )\n",
    "    ax.legend()\n",
    "\n",
    "    db, pd, _ = anim_frames[0]\n",
    "    db_x = np.linspace(-sample_range, sample_range, len(db))\n",
    "    p_x = np.linspace(-sample_range, sample_range, len(pd))\n",
    "\n",
    "    def init():\n",
    "        line_db.set_data([], [])\n",
    "        line_pd.set_data([], [])\n",
    "        line_pg.set_data([], [])\n",
    "        frame_number.set_text('')\n",
    "        return (line_db, line_pd, line_pg, frame_number)\n",
    "\n",
    "    def animate(i):\n",
    "        frame_number.set_text(\n",
    "            'Frame: {}/{}'.format(i, len(anim_frames))\n",
    "        )\n",
    "        db, pd, pg = anim_frames[i]\n",
    "        line_db.set_data(db_x, db)\n",
    "        line_pd.set_data(p_x, pd)\n",
    "        line_pg.set_data(p_x, pg)\n",
    "        return (line_db, line_pd, line_pg, frame_number)\n",
    "\n",
    "    anim = animation.FuncAnimation(\n",
    "        f,\n",
    "        animate,\n",
    "        init_func=init,\n",
    "        frames=len(anim_frames),\n",
    "        blit=True\n",
    "    )\n",
    "    anim.save(anim_path, fps=30, extra_args=['-vcodec', 'libx264'])\n",
    "\n",
    "\n",
    "\n",
    "\n",
    "N = 8  # batch size\n",
    "D_in = 1  # input size of D\n",
    "H = 4  # numbr of  hidden neurons\n",
    "D_out = 1\n",
    "learning_rate = 0.005\n",
    "epochs = 50000\n",
    "plot_every_epochs = 1000\n",
    "current_time = datetime.datetime.now().strftime(\"20%y%m%d_%H%M_%S\")\n",
    "output_path = '/tmp/{}'.format(current_time)\n",
    "if not os.path.exists(output_path):\n",
    "    os.makedirs(output_path)\n",
    "anim_path = output_path\n",
    "\n",
    "\n",
    "anim_frames = []\n",
    "\n",
    "use_cuda = torch.cuda.is_available()\n",
    "\n",
    "data_dist = DataDistribution()\n",
    "gen_dist = GeneratorDistribution(range=8)\n",
    "\n",
    "x = torch.FloatTensor(N, 1)\n",
    "z = torch.FloatTensor(N, 1)\n",
    "label = torch.FloatTensor(N)\n",
    "real_label = 1\n",
    "fake_label = 0\n",
    "\n",
    "netD = Discriminator(D_in=D_in, H=H, D_out=D_out)\n",
    "netG = Generator(D_in=D_in, H=H, D_out=D_out)\n",
    "netD.apply(weights_init)\n",
    "netG.apply(weights_init)\n",
    "        \n",
    "criterion = torch.nn.BCELoss()\n",
    "\n",
    "if use_cuda:\n",
    "    x, z, label = x.cuda(), z.cuda(), label.cuda()\n",
    "    netD.cuda()\n",
    "    netG.cuda()\n",
    "    criterion.cuda()\n",
    "\n",
    "optimizerD = torch.optim.SGD(netD.parameters(), lr=learning_rate)\n",
    "optimizerG = torch.optim.SGD(netG.parameters(), lr=learning_rate)\n",
    "\n",
    "# Create figure\n",
    "f, ax = plt.subplots(1)\n",
    "\n",
    "for epoch in range(epochs):\n",
    "    ############################\n",
    "    # (1) Update D network: maximize log(D(x)) + log(1 - D(G(z)))\n",
    "    ###########################\n",
    "    # train with real: maximize log(D(x))\n",
    "    netD.zero_grad()\n",
    "    real_cpu = torch.FloatTensor(data_dist.sample(N))\n",
    "    if use_cuda:\n",
    "        real_cpu = real_cpu.cuda()\n",
    "    x.copy_(real_cpu)\n",
    "    label.fill_(real_label)\n",
    "    xv = Variable(x)\n",
    "    labelv = Variable(label)\n",
    "    \n",
    "    output = netD(xv)  # D(x)\n",
    "    errD_real = criterion(output, labelv)\n",
    "    errD_real.backward()\n",
    "    D_x = output.data.mean()\n",
    "    \n",
    "    # train with fake: maximize log(1 - D(G(z)))\n",
    "    z = torch.FloatTensor(gen_dist.sample(N))[...,None]  # (N_sample, N_channel)\n",
    "    if use_cuda:\n",
    "        z = z.cuda()\n",
    "    zv = Variable(z)\n",
    "    fake = netG(zv)   # G(z)\n",
    "    labelv = Variable(label.fill_(fake_label))\n",
    "    output = netD(fake.detach())   # D(G(z))\n",
    "    errD_fake = criterion(output, labelv)\n",
    "    errD_fake.backward()\n",
    "    D_G_z1 = output.data.mean()\n",
    "    errD = errD_real + errD_fake\n",
    "    optimizerD.step()\n",
    "    optimizerD = update_learning_rate(optimizer=optimizerD,\n",
    "                                      epoch=epoch,\n",
    "                                      init_lr=learning_rate,\n",
    "                                      decay_rate=0.95,\n",
    "                                      lr_decay_epochs=150)\n",
    "\n",
    "    ############################\n",
    "    # (2) Update G network: maximize log(D(G(z))): guide D make wrong prediction: G(z) --> real_label(1)\n",
    "    ###########################\n",
    "    netG.zero_grad()\n",
    "    labelv = Variable(label.fill_(real_label))\n",
    "    output = netD(fake)  # D(G(z))\n",
    "    errG = criterion(output, labelv)\n",
    "    errG.backward()\n",
    "    D_G_z2 = output.data.mean()\n",
    "    optimizerG.step()\n",
    "    optimizerG = update_learning_rate(optimizer=optimizerG,\n",
    "                                      epoch=epoch,\n",
    "                                      init_lr=learning_rate,\n",
    "                                      decay_rate=0.95,\n",
    "                                      lr_decay_epochs=150)\n",
    "    \n",
    "    #print('[%d/%d] Loss_D: %.4f Loss_G %.4f D(x): %.4f D(G(z)): %.4f / %.4f' \\\n",
    "    #    % (epoch, epochs, errD.data[0], errG.data[0], D_x, D_G_z1, D_G_z2))\n",
    "\n",
    "    if epoch % plot_every_epochs == 0:\n",
    "        # Plot distribution\n",
    "        samps = samples([netD, netG], data_dist, gen_dist.range, N)\n",
    "        anim_frames.append(samps)\n",
    "        plot_distributions(samps, gen_dist.range, ax, save_img_name = output_path+'/{:06}'.format(epoch))\n",
    "\n",
    "# save_animation(anim_frames, anim_path, gen_dist.range)"
   ]
  },
  {
   "cell_type": "code",
   "execution_count": null,
   "metadata": {},
   "outputs": [],
   "source": []
  }
 ],
 "metadata": {
  "kernelspec": {
   "display_name": "Python [conda env:pytorch_env]",
   "language": "python",
   "name": "conda-env-pytorch_env-py"
  },
  "language_info": {
   "codemirror_mode": {
    "name": "ipython",
    "version": 3
   },
   "file_extension": ".py",
   "mimetype": "text/x-python",
   "name": "python",
   "nbconvert_exporter": "python",
   "pygments_lexer": "ipython3",
   "version": "3.7.7"
  }
 },
 "nbformat": 4,
 "nbformat_minor": 4
}
